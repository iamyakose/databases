{
 "cells": [
  {
   "cell_type": "markdown",
   "metadata": {
    "slideshow": {
     "slide_type": "slide"
    }
   },
   "source": [
    "# What is a Database?"
   ]
  },
  {
   "cell_type": "markdown",
   "metadata": {
    "slideshow": {
     "slide_type": "subslide"
    }
   },
   "source": [
    "  > a structured set of data held in a computer, especially one that is accessible in various ways. a database covering nine million workers. [ as modifier ] : database systems.\n",
    "  >\n",
    "  > _Oxford Dictionary of English_"
   ]
  },
  {
   "cell_type": "markdown",
   "metadata": {
    "slideshow": {
     "slide_type": "subslide"
    }
   },
   "source": [
    "  > a usually large collection of data organized especially for rapid search and retrieval (as by a computer)\n",
    "  >\n",
    "  > https://www.merriam-webster.com/dictionary/database"
   ]
  },
  {
   "cell_type": "markdown",
   "metadata": {
    "slideshow": {
     "slide_type": "slide"
    }
   },
   "source": [
    "# What is a Database Management System?"
   ]
  },
  {
   "cell_type": "markdown",
   "metadata": {
    "slideshow": {
     "slide_type": "subslide"
    }
   },
   "source": [
    "  > A database-management system (DBMS) is a computer-software application that interacts with end-users, other applications, and the database itself to capture and analyze data. A general-purpose DBMS allows the definition, creation, querying, update, and administration of databases.\n",
    "  > \n",
    "  > https://en.wikipedia.org/wiki/Database"
   ]
  },
  {
   "cell_type": "markdown",
   "metadata": {
    "slideshow": {
     "slide_type": "slide"
    }
   },
   "source": [
    "# Your turn!\n",
    "\n",
    "Build the likely simplest DB in the world!"
   ]
  },
  {
   "cell_type": "markdown",
   "metadata": {
    "slideshow": {
     "slide_type": "subslide"
    }
   },
   "source": [
    "# What is this?\n",
    "\n",
    "```bash\n",
    "#!/usr/bin/env bash\n",
    "db_set () {\n",
    "    echo \"$1,$2\" >> database\n",
    "}\n",
    "db_get () {\n",
    "    grep \"^$1,\" database | sed -e \"s/^$1,//\" | tail -n 1\n",
    "}\n",
    "```\n",
    "\n",
    "  * Type in the script above using the editor of your choice.\n",
    "  * **OBS** keep the spaces as they are, some of them are important.\n",
    "  * Save the script above in a file called `simple_db.sh`. \n",
    "  * Then source this file via `source simple_db.sh`."
   ]
  },
  {
   "cell_type": "markdown",
   "metadata": {
    "slideshow": {
     "slide_type": "subslide"
    }
   },
   "source": [
    "## Using the `simple_db`\n",
    "\n",
    "\n",
    "Run the following command subsequently and see what happens.\n",
    "\n",
    "```bash\n",
    "$ db_set 123456 '{\"name\":\"London\",\"attractions\":[\"Big Ben\",\"London Eye\"]}' \n",
    "$ db_set 42 '{\"name\":\"San Francisco\",\"attractions\":[\"Golden Gate Bridge\"]}'\n",
    "$ db_get 42\n",
    "```"
   ]
  },
  {
   "cell_type": "markdown",
   "metadata": {
    "slideshow": {
     "slide_type": "subslide"
    }
   },
   "source": [
    "## Exercise 1\n",
    "\n",
    "  * Talk to your neighbour and:\n",
    "    - Explain each other what the script -the DBMS `simple_db.sh`- does when _writing_ a record.\n",
    "    - Explain each other what the script -the DBMS `simple_db.sh`- does when _reading_ a record."
   ]
  },
  {
   "cell_type": "markdown",
   "metadata": {
    "slideshow": {
     "slide_type": "fragment"
    }
   },
   "source": [
    "  * What are really good features of our `simple_db.sh` DB?\n",
    "  * Additionally, create a list of three potential issues of our simple database."
   ]
  },
  {
   "cell_type": "markdown",
   "metadata": {
    "slideshow": {
     "slide_type": "subslide"
    }
   },
   "source": [
    "### Performance Issue\n",
    "\n",
    "  * Finding a datum for a key takes $O(n)$, i.e., the worst case run time is linear.\n",
    "  * What does that mean?"
   ]
  },
  {
   "cell_type": "code",
   "execution_count": 3,
   "metadata": {
    "slideshow": {
     "slide_type": "subslide"
    }
   },
   "outputs": [
    {
     "name": "stdout",
     "output_type": "stream",
     "text": [
      "44.8 ms ± 538 µs per loop (mean ± std. dev. of 7 runs, 10 loops each)\n"
     ]
    }
   ],
   "source": [
    "def inspect_each_element_in_a_list(list_len):\n",
    "    for el in range(list_len):\n",
    "        if el == 'not here':\n",
    "            print(f'Found: {el}')\n",
    "\n",
    "\n",
    "%timeit inspect_each_element_in_a_list(1000000)"
   ]
  },
  {
   "cell_type": "code",
   "execution_count": 6,
   "metadata": {
    "slideshow": {
     "slide_type": "fragment"
    }
   },
   "outputs": [
    {
     "name": "stdout",
     "output_type": "stream",
     "text": [
      "89.3 ms ± 622 µs per loop (mean ± std. dev. of 7 runs, 10 loops each)\n"
     ]
    }
   ],
   "source": [
    "%timeit inspect_each_element_in_a_list(1000000 * 2)"
   ]
  },
  {
   "cell_type": "code",
   "execution_count": 8,
   "metadata": {
    "slideshow": {
     "slide_type": "fragment"
    }
   },
   "outputs": [
    {
     "name": "stdout",
     "output_type": "stream",
     "text": [
      "442 ms ± 2.05 ms per loop (mean ± std. dev. of 7 runs, 1 loop each)\n"
     ]
    }
   ],
   "source": [
    "%timeit inspect_each_element_in_a_list(1000000 * 10)"
   ]
  },
  {
   "cell_type": "markdown",
   "metadata": {
    "slideshow": {
     "slide_type": "slide"
    }
   },
   "source": [
    "### How can we speed-up the look up?\n",
    "\n",
    "  * Can we speed up the look up operation to constant time, i.e., $O(1)$\n",
    "  * Which data structure do you know in your favorite programming language that supports constant time look up?"
   ]
  },
  {
   "cell_type": "markdown",
   "metadata": {
    "slideshow": {
     "slide_type": "subslide"
    }
   },
   "source": [
    "#### Hashmaps/Dictionaries in ...\n",
    "\n",
    "  * Go\n",
    "    ```golang\n",
    "    m := map[string]int{\"ananas\": 3, \"banana\": 8,    \"cranberrry\": 4909}\n",
    "    delete(m, \"banana\")\n",
    "    m[\"banana\"] = 42\n",
    "   ```\n",
    "\n",
    "  * Java\n",
    "    ```java\n",
    "Map<Integer, Integer> hm = new HashMap<Integer, Integer>();\n",
    "```\n",
    "  * C`#`\n",
    "    ```c#\n",
    "Dictionary<int, int> hm = new Dictionary<int, int>();\n",
    "```\n",
    "  * Python\n",
    "    ```\n",
    "    m = {\"Hej\": \"Ho\", \"Let's\": \"Go!\"}\n",
    "    ```"
   ]
  },
  {
   "cell_type": "code",
   "execution_count": 18,
   "metadata": {
    "slideshow": {
     "slide_type": "subslide"
    }
   },
   "outputs": [
    {
     "data": {
      "text/plain": [
       "{0: 'shao0',\n",
       " 1: 'v14Gx',\n",
       " 2: '5iBIT',\n",
       " 3: 'gIA0X',\n",
       " 4: 'l2wxK',\n",
       " 5: 'R39lU',\n",
       " 6: 'L5IRr',\n",
       " 7: 'vcBy1',\n",
       " 8: 'xeZrK',\n",
       " 9: 'Ft4L6'}"
      ]
     },
     "execution_count": 18,
     "metadata": {},
     "output_type": "execute_result"
    }
   ],
   "source": [
    "import random\n",
    "import string\n",
    "\n",
    "\n",
    "def generate_random_data():\n",
    "    chars = string.ascii_letters + string.digits\n",
    "    return ''.join(random.sample(chars, 5))\n",
    "\n",
    "\n",
    "list_len = 10\n",
    "simple_index = {el: generate_random_data() for el in range(list_len)}\n",
    "simple_index"
   ]
  },
  {
   "cell_type": "code",
   "execution_count": 19,
   "metadata": {
    "slideshow": {
     "slide_type": "subslide"
    }
   },
   "outputs": [
    {
     "name": "stdout",
     "output_type": "stream",
     "text": [
      "done...\n"
     ]
    }
   ],
   "source": [
    "list_len = 1000000 * 2\n",
    "simple_index = {el: generate_random_data() for el in range(list_len)}\n",
    "print(\"done...\")"
   ]
  },
  {
   "cell_type": "code",
   "execution_count": 20,
   "metadata": {
    "slideshow": {
     "slide_type": "subslide"
    }
   },
   "outputs": [
    {
     "name": "stdout",
     "output_type": "stream",
     "text": [
      "53.2 ns ± 0.505 ns per loop (mean ± std. dev. of 7 runs, 10000000 loops each)\n"
     ]
    }
   ],
   "source": [
    "%timeit simple_index[10000]"
   ]
  },
  {
   "cell_type": "code",
   "execution_count": 21,
   "metadata": {
    "slideshow": {
     "slide_type": "fragment"
    }
   },
   "outputs": [
    {
     "name": "stdout",
     "output_type": "stream",
     "text": [
      "52.8 ns ± 0.207 ns per loop (mean ± std. dev. of 7 runs, 10000000 loops each)\n"
     ]
    }
   ],
   "source": [
    "%timeit simple_index[10000 * 2]"
   ]
  },
  {
   "cell_type": "code",
   "execution_count": 22,
   "metadata": {
    "slideshow": {
     "slide_type": "fragment"
    }
   },
   "outputs": [
    {
     "name": "stdout",
     "output_type": "stream",
     "text": [
      "53 ns ± 0.968 ns per loop (mean ± std. dev. of 7 runs, 10000000 loops each)\n"
     ]
    }
   ],
   "source": [
    "%timeit simple_index[10000 * 50]"
   ]
  },
  {
   "cell_type": "markdown",
   "metadata": {
    "slideshow": {
     "slide_type": "subslide"
    }
   },
   "source": [
    "### We just built an _index_!\n",
    "\n",
    "  * What is the drawback of using a Hashmap as a datastructure for keeping a database index?\n",
    "  * Talk to your neighbour and name two potential drawbacks."
   ]
  },
  {
   "cell_type": "markdown",
   "metadata": {
    "slideshow": {
     "slide_type": "slide"
    }
   },
   "source": [
    "# Why does this matter?\n",
    "\n",
    "  * One of the oldest DBMS -the Unix library `dbm`- works in that way, see in the following.\n",
    "  * Modern **key-value stores** such as _Riak_ (http://basho.com/products/riak-kv/) with the storage engine _Bitcask_ (https://docs.basho.com/riak/kv/2.0.7/setup/planning/backend/bitcask/) work that way.\n"
   ]
  },
  {
   "cell_type": "markdown",
   "metadata": {
    "slideshow": {
     "slide_type": "subslide"
    }
   },
   "source": [
    "## A closer look at `gdbm`, the _GNU dbm_\n",
    "\n",
    "Let's say you have a program in some language -here Ruby- and you want to persist some _key-value_ data.\n",
    "\n",
    "Save it in `gdbm_write.rb`.\n",
    "\n",
    "```ruby\n",
    "require 'gdbm'\n",
    "\n",
    "gdbm = GDBM.new(\"fruitstore.db\")\n",
    "gdbm[\"ananas\"]    = \"3\"\n",
    "gdbm[\"banana\"]    = \"8\"\n",
    "gdbm[\"cranberry\"] = \"4909\"\n",
    "gdbm[\"ananas\"]    = \"42\"\n",
    "gdbm.close\n",
    "```\n",
    "\n",
    "The example is adapted from:\n",
    "https://ruby-doc.org/stdlib-2.5.0/libdoc/gdbm/rdoc/GDBM.html"
   ]
  },
  {
   "cell_type": "markdown",
   "metadata": {
    "slideshow": {
     "slide_type": "subslide"
    }
   },
   "source": [
    "```ruby\n",
    "require 'gdbm'\n",
    "\n",
    "gdbm = GDBM.new(\"fruitstore.db\")\n",
    "gdbm.each_pair do |key, value|\n",
    "  print \"#{key}: #{value}\\n\"\n",
    "end\n",
    "gdbm.close\n",
    "```\n",
    "\n",
    "In case you have no Ruby installed on your system, you can run the program as in the following:\n",
    "\n",
    "```bash\n",
    "docker run -it --rm -v $(pwd):/src -w /src helgecph/pythonruby sh -c \"ruby gdbm_write.rb;ruby gdbm_read.rb\"\n",
    "```\n",
    "\n",
    "What do all the Docker switches mean and do?"
   ]
  },
  {
   "cell_type": "markdown",
   "metadata": {
    "collapsed": true,
    "slideshow": {
     "slide_type": "subslide"
    }
   },
   "source": [
    "### Exercise 2\n",
    "\n",
    "  * Inspect the file `fruitstore.db`\n",
    "    - What is the output of `file fruitstore.db`?\n",
    "    - What can you see when you look inside?\n",
    "    - How does that compare to our earlier file from \n",
    "   \n",
    "In case you do not have a tool like `xxd` or `hexdump` installed on your machine you can see the contents of the file for example with:\n",
    "```bash\n",
    "docker run -it --rm -v $(pwd):/src -w /src helgecph/pythonruby sh -c \"hexdump -C fruitstore.db\"\n",
    "```"
   ]
  },
  {
   "cell_type": "markdown",
   "metadata": {
    "slideshow": {
     "slide_type": "slide"
    }
   },
   "source": [
    "# Key-Value Stores for Production Systems\n",
    "\n",
    "There are many types of key-value stores. They differ in if they are in-memory only, what type of disk they target, or the data types that can be used for keys and values.\n",
    "\n",
    "  * Redis (https://redis.io) is an in-memory database. That is, it does not persist data into a file. Furthermore, it can handle complex data structures as values.\n",
    "  * LevelDB (https://github.com/google/leveldb) from Google is an on disk key-value store, where both, keys and values, can be strings. It is similar to GDBM that we discussed earlier in that it is used as a library not as a client server system.\n",
    "  * Find more systems listed here: https://en.wikipedia.org/wiki/Key-value_database or here: https://db-engines.com/en/ranking/key-value+store"
   ]
  },
  {
   "cell_type": "markdown",
   "metadata": {},
   "source": [
    "A dumb Python GDBM implementation\n",
    "https://github.com/python/cpython/blob/3.6/Lib/dbm/dumb.py"
   ]
  },
  {
   "cell_type": "markdown",
   "metadata": {
    "slideshow": {
     "slide_type": "slide"
    }
   },
   "source": [
    "# Your turn at home!\n",
    "\n",
    "\n",
    "## Assignment 1 - Simple DB with Hashmap-based Index\n",
    "\n",
    "  * Build a `simple_db` in the programming language of your choice.\n",
    "    - Implement a Hashmap-based index.\n",
    "    - Implement functionality to store your data on disk in a binary file.\n",
    "    - Implement functionality to read your data from disk again, so that you can reinstantiate your hashmap after a shutdown.\n",
    "  * _Hint:_ You do not want to serialize and deserialize the an in memory Hashmap containing all data directly. Instead, you in memory index based on a Hashmap contains information on where in you database file a piece of information is stored.\n",
    "\n",
    "## Hand-in procedure\n",
    "\n",
    "  * Provide all code and documentation for this assignment in a repository on Github.\n",
    "  * Create a Markdown (.md) file called README.md in the root of your project.\n",
    "  * That README.md describes what this project does and how to make it work. That is, you reviewer has to be able to clone your project, build it -you have to define steps for how to do that and what dependencies are required-, and use it.\n",
    "  * Hand-in a link to your repository on www.peergrade.io.\n",
    "  * Hand-in at latest on Sunday 3. Feb. 16:00.\n",
    "  \n",
    "## Review procedure\n",
    "\n",
    "  * Log onto www.peergrade.io with your school email addresss.\n",
    "  * Finish your review on www.peergrade.io at latest on Tuesday Feb. 5th 23:00.\n",
    "  * Make use of the review criteria below when giving feedback.\n",
    "  * See the message that you received on your school email to know whom to review.\n",
    "  \n",
    "\n",
    "### Review Criteria\n",
    "\n",
    "Provide feedback on each of the following bullet points.\n",
    "\n",
    "  * Does the provided solution to the assignment work as described in the README.md?\n",
    "    - If not, describe briefly what information is missing or what is wrong in the program.\n",
    "  * Describe briefly, how the provided solution compares to the description of Hashmap-based indexes on page 4 of the PDF in https://github.com/datsoftlyngby/soft2018spring-databases-teaching-material/blob/master/literature/session_1.zip.\n",
    "  * Does the provided solution allow for storage and reinstantiation of the Hashmap-based index when the database is shutdown and started respectively?\n",
    "    - If not, provide information on what is missing and how that could be implemented.\n"
   ]
  }
 ],
 "metadata": {
  "celltoolbar": "Slideshow",
  "kernelspec": {
   "display_name": "Python 3",
   "language": "python",
   "name": "python3"
  },
  "language_info": {
   "codemirror_mode": {
    "name": "ipython",
    "version": 3
   },
   "file_extension": ".py",
   "mimetype": "text/x-python",
   "name": "python",
   "nbconvert_exporter": "python",
   "pygments_lexer": "ipython3",
   "version": "3.7.2"
  }
 },
 "nbformat": 4,
 "nbformat_minor": 2
}
