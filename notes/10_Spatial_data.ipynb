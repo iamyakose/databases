{
 "cells": [
  {
   "cell_type": "markdown",
   "metadata": {
    "slideshow": {
     "slide_type": "slide"
    }
   },
   "source": [
    "# Spatial data\n",
    "Plan\n",
    "* Coordinates of Earth\n",
    "* Showing data on a map\n",
    "* Different kinds of spatial data\n",
    "* Standard SQL spatial query operators\n",
    "* Index for spatial queries\n"
   ]
  },
  {
   "cell_type": "code",
   "execution_count": null,
   "metadata": {
    "slideshow": {
     "slide_type": "skip"
    }
   },
   "outputs": [],
   "source": [
    "!docker container ls -a"
   ]
  },
  {
   "cell_type": "code",
   "execution_count": null,
   "metadata": {
    "slideshow": {
     "slide_type": "skip"
    }
   },
   "outputs": [],
   "source": [
    "%%bash\n",
    "docker run \\\n",
    "--rm \\\n",
    "--name my_mysql \\\n",
    "-v $(pwd)/mysql_databasefiles:/var/lib/mysql \\\n",
    "-p 3306:3306 \\\n",
    "-e MYSQL_ROOT_PASSWORD=deterentysker!42snapsnap \\\n",
    "-d \\\n",
    "mysql\n",
    "echo \"MySQLRunning\""
   ]
  },
  {
   "cell_type": "markdown",
   "metadata": {
    "slideshow": {
     "slide_type": "slide"
    }
   },
   "source": [
    "# Spatial data\n",
    "![](https://cdn-images-1.medium.com/max/1200/1*e7w5S04WL7qICzeDNFP_bg.png)"
   ]
  },
  {
   "cell_type": "markdown",
   "metadata": {
    "slideshow": {
     "slide_type": "slide"
    }
   },
   "source": [
    "# Spatial queries\n",
    "* Distance between points\n",
    "    * find points within a radius from an other point\n",
    "    * find closes point\n",
    "    * find the point which is closest to all other\n",
    "* Three kind of fundamental shapes\n",
    "    * points\n",
    "    * lines (roads, rivers, hiking trails, tracks)\n",
    "    * areas (countries, lakes, forests, parks,...)"
   ]
  },
  {
   "cell_type": "markdown",
   "metadata": {
    "slideshow": {
     "slide_type": "slide"
    }
   },
   "source": [
    "# Spherical coordinates\n",
    "![](https://cdn-images-1.medium.com/max/1600/0*fB5jHfIBZzI_TTGi.png)\n"
   ]
  },
  {
   "cell_type": "markdown",
   "metadata": {
    "slideshow": {
     "slide_type": "slide"
    }
   },
   "source": [
    "# Spherical coordinate systems\n",
    "* GPS (origin as in the previous slide - coordinates are angles in degrees - floats)\n",
    "* This is a huge (and annoying) issue:\n",
    "    * Where do we put origin\n",
    "    * What do we measure\n",
    "    * Distance between points are hard\n",
    "    \n",
    "Using GPS coordinates Copenhagen center is at lattitude, longitude: (55.6867243, 12.5700724) \n"
   ]
  },
  {
   "cell_type": "markdown",
   "metadata": {
    "slideshow": {
     "slide_type": "slide"
    }
   },
   "source": [
    "#  Coordinate Reference System Identifier or SRID\n",
    "There is an organization named \"Open Geospatial Consortium\" which maintain a list of know coordinate systems.\n",
    "\n",
    "They are available in MySQL:\n",
    "```mysql\n",
    "SELECT `srs_name`, `srs_id`\n",
    "FROM INFORMATION_SCHEMA.ST_SPATIAL_REFERENCE_SYSTEMS\n",
    "```\n",
    "\n",
    "Three important SRID for MySQL:\n",
    "* 0: The raw cartesian (X,Y) on a infinite flat map\n",
    "* 4326: Standard Geographic Coordinate System (Geodata must be in this srid for MySQL)\n",
    "* 25832: [Europe](https://epsg.io/25832) (Large and medium scale topographic mapping and engineering survey)"
   ]
  },
  {
   "cell_type": "markdown",
   "metadata": {
    "slideshow": {
     "slide_type": "slide"
    }
   },
   "source": [
    "# Spatial sample data\n",
    "\n",
    "Finding data:\n",
    "We will look at some data for Copenhagen. The Copenhagen municipality has a lot of data at:\n",
    "http://wfs-kbhkort.kk.dk/web/\n",
    "\n",
    "\n",
    "Point data (where are there currently given permission to dig in the ground :-) \"\"):\n",
    "http://wfs-kbhkort.kk.dk/k101/ows?service=WFS&version=1.0.0&request=GetFeature&typeName=k101:erhv_gravetilladelser_aktiv&maxFeatures=50&outputFormat=application%2Fjson\n",
    "\n",
    "Notice the `maxFeatures=50`in the link. To get the full dataset it is necessary to remove that:\n",
    "http://wfs-kbhkort.kk.dk/k101/ows?service=WFS&version=1.0.0&request=GetFeature&typeName=k101:erhv_gravetilladelser_aktiv&outputFormat=application%2Fjson\n",
    "\n",
    "\n"
   ]
  },
  {
   "cell_type": "markdown",
   "metadata": {
    "slideshow": {
     "slide_type": "slide"
    }
   },
   "source": [
    "# Getting the data into the database\n",
    "Three options (well, there are many, but lets look at two)\n",
    "* geojson\n",
    "* CSV\n",
    "* Coded"
   ]
  },
  {
   "cell_type": "markdown",
   "metadata": {
    "slideshow": {
     "slide_type": "slide"
    }
   },
   "source": [
    "### Geojson\n",
    "* A standard from internet engineering task force (http://geojson.org).\n",
    "* Wrt. MySQL - it is a two step procedure\n",
    "    * Load the (geo)json into a table\n",
    "    * Extract the relevant part of the json out into a materialized view (to make it possible to work with the locations)"
   ]
  },
  {
   "cell_type": "markdown",
   "metadata": {
    "slideshow": {
     "slide_type": "slide"
    }
   },
   "source": [
    "## Your turn (10 min):\n",
    "\n",
    "1. On the [spatial data of Copenhagen](http://wfs-kbhkort.kk.dk/web/;jsessionid=9C93A3CFBDBF78F5378C99FA64BE60B0?wicket:bookmarkablePage=:org.geoserver.web.demo.MapPreviewPage), find the category for bikeracks (cykelstativ).\n",
    "2. Explore the geojson format.\n",
    "3. In particular - notice the structure of the data, which is a mixture of geo and other info for each bikerack\n",
    "4. Note the unusual (non-gps) coordinates. Find the part of the geojson which indicates the coordinate system used\n",
    "\n"
   ]
  },
  {
   "cell_type": "markdown",
   "metadata": {
    "slideshow": {
     "slide_type": "slide"
    }
   },
   "source": [
    "### CSV\n",
    "* Straight forward (well - sort of)\n",
    "* Huge number of columns (30)\n",
    "    * The mysql statement [LOAD DATA](https://dev.mysql.com/doc/refman/8.0/en/load-data.html) can do the job\n",
    "    * LOAD DATA can ignore some columns"
   ]
  },
  {
   "cell_type": "markdown",
   "metadata": {
    "slideshow": {
     "slide_type": "slide"
    }
   },
   "source": [
    "# Loading data - srid change\n",
    "Cannot (to my knowledge) be done using the standard tools to load into MySQL. \n",
    "\n",
    "So we need to write a loader program to load the data and convert the locations."
   ]
  },
  {
   "cell_type": "markdown",
   "metadata": {
    "slideshow": {
     "slide_type": "slide"
    }
   },
   "source": [
    "# Code to create a \"sql script\"\n",
    "\n"
   ]
  },
  {
   "cell_type": "markdown",
   "metadata": {
    "slideshow": {
     "slide_type": "slide"
    }
   },
   "source": [
    "# Coordinate convertion using pyproj"
   ]
  },
  {
   "cell_type": "code",
   "execution_count": null,
   "metadata": {
    "slideshow": {
     "slide_type": "fragment"
    }
   },
   "outputs": [],
   "source": [
    "from pyproj import Proj, transform\n",
    "from re import sub\n",
    "\n",
    "inProj = Proj(init='EPSG:25832')\n",
    "outProj = Proj(init='epsg:4326')\n",
    "\n",
    "def transformer(x,y):\n",
    "    # point is on the form \"722942.66 6173097.7\"\n",
    "    ll = transform(inProj, outProj, x,y)\n",
    "    return str(ll[0])+' '+str(ll[1])\n",
    "\n",
    "def geom_transformer(geom):\n",
    "    reg_ex=\"([0-9.]+) ([0-9.]+)\" # pick out two numbers with a space inbetween\n",
    "    return sub(reg_ex, lambda m: transformer(m.group(1), m.group(2)), geom)\n",
    "\n",
    "geom_transformer(\"POINT (722942.66 6173097.7)\")"
   ]
  },
  {
   "cell_type": "markdown",
   "metadata": {
    "slideshow": {
     "slide_type": "slide"
    }
   },
   "source": [
    "# Converting to sql\n",
    "\n",
    "* Write a program that read the input format, and inserts data into the database\n",
    "* Write a program that read the input format, and creates a \"dump\" file (creates tables and insert statements)."
   ]
  },
  {
   "cell_type": "markdown",
   "metadata": {
    "slideshow": {
     "slide_type": "fragment"
    }
   },
   "source": [
    "### I will do the latter - create a reader which creates sql output"
   ]
  },
  {
   "cell_type": "markdown",
   "metadata": {
    "slideshow": {
     "slide_type": "slide"
    }
   },
   "source": [
    "# Digging permits in Copenhagen\n",
    "(It will allow us to see where they are working on Fibernet in Copenhagen)\n",
    "\n",
    "http://wfs-kbhkort.kk.dk/k101/ows?service=WFS&version=1.0.0&request=GetFeature&typeName=k101:erhv_gravetilladelser_aktiv&outputFormat=csv\n"
   ]
  },
  {
   "cell_type": "markdown",
   "metadata": {
    "slideshow": {
     "slide_type": "fragment"
    }
   },
   "source": [
    "Examine the csv format file for which data to include in the database.\n",
    "\n",
    "<sub><sub>Note to Kasper - open the file and look</sub></sub>"
   ]
  },
  {
   "cell_type": "markdown",
   "metadata": {
    "slideshow": {
     "slide_type": "slide"
    }
   },
   "source": [
    "## Overall function"
   ]
  },
  {
   "cell_type": "code",
   "execution_count": null,
   "metadata": {
    "slideshow": {
     "slide_type": "fragment"
    }
   },
   "outputs": [],
   "source": [
    "# import data as: wfs-kbhkort.kk.dk/k101/ows?service=WFS&version=1.0.0&request=GetFeature&typeName=k101:erhv_gravetilladelser_aktiv&outputFormat=csv\n",
    "import os\n",
    "import csv\n",
    "\n",
    "our_headers = {'sagsnr':'INT', \n",
    "               'grave_art':'VARCHAR(100)', \n",
    "               'bygherre':'VARCHAR(100)', \n",
    "               'wkb_geometry':'GEOMETRY NOT NULL SRID 4326'}\n",
    "\n",
    "def makeSQLFile(file_name, headers=our_headers):\n",
    "    cwd = os.getcwd() # current working directory\n",
    "    inputfile = open(f\"{cwd}/{file_name}.csv\",\"r\")\n",
    "    outputfile = open(f\"{cwd}/{file_name}.sql\", \"w+\")\n",
    "    table = createTable(file_name, headers)\n",
    "    inserts = makeInsertStatements(file_name, headers, inputfile, outputfile)\n",
    "    outputfile.write(table)\n",
    "    outputfile.write(inserts)\n",
    "    outputfile.close()\n",
    "    \n",
    "our_headers"
   ]
  },
  {
   "cell_type": "code",
   "execution_count": null,
   "metadata": {
    "slideshow": {
     "slide_type": "slide"
    }
   },
   "outputs": [],
   "source": [
    "def createTable(name, headers):\n",
    "    sql = f\"drop table if exists {name};\\n\"\n",
    "    sql += f\"create table {name} (\\n\"\n",
    "    sql += \", \\n\".join([f\"\\t{header} {sql_type}\" for header,sql_type in headers.items()])\n",
    "    sql += f\",\\n\\tprimary key({list(headers.keys())[0]})\\n);\\n\"\n",
    "    print(f'created table {name}')\n",
    "    return sql\n",
    "print(createTable('digging', our_headers))"
   ]
  },
  {
   "cell_type": "markdown",
   "metadata": {
    "slideshow": {
     "slide_type": "slide"
    }
   },
   "source": [
    "# Making the insert statements\n",
    "The format of an insert statement is:\n",
    "\n",
    "```mysql\n",
    "INSERT INTO table_name ( field1, field2,...fieldN )\n",
    "   VALUES\n",
    "   ( value1, value2,...valueN );\n",
    "```\n",
    "\n",
    "A minor issue is we read all values from the CSV file as text, but need to convert them to their sql type."
   ]
  },
  {
   "cell_type": "code",
   "execution_count": null,
   "metadata": {
    "slideshow": {
     "slide_type": "slide"
    }
   },
   "outputs": [],
   "source": [
    "def valueOf(v, sql_type):\n",
    "    if sql_type == \"INT\":\n",
    "        return v\n",
    "    if sql_type[0:8] == \"GEOMETRY\":\n",
    "        c = geom_transformer(v) # This is where I convert from EPSG:25832' to 'epsg:4326'\n",
    "        return f'ST_GeomFromText(\"{c}\", 4326)'\n",
    "    return f'\"{v}\"'\n",
    "print( valueOf(77,'INT'))\n",
    "print( valueOf(\"POINT (722942.66 6173097.7)\", 'GEOMETRY NOT NULL SRID 4326') )\n",
    "print( valueOf('Fibernet', 'VARCHAR(100)'))"
   ]
  },
  {
   "cell_type": "markdown",
   "metadata": {
    "slideshow": {
     "slide_type": "slide"
    }
   },
   "source": [
    "# Making insert statements\n"
   ]
  },
  {
   "cell_type": "code",
   "execution_count": null,
   "metadata": {
    "slideshow": {
     "slide_type": "fragment"
    }
   },
   "outputs": [],
   "source": [
    "def makeInsertStatements(name, headers, infile, outfile):\n",
    "    print(\"Writing inserts \",end='')\n",
    "    headerline = infile.readline()\n",
    "    csv_headers = headerline.rstrip().split(\",\")\n",
    "    headerIndex = { h : csv_headers.index(h) for h in headers.keys()}\n",
    "    sql = \"\"\n",
    "    csv_in = csv.reader(infile, delimiter=',', quotechar='\"')\n",
    "    for row in csv_in:\n",
    "        print('.',end='')\n",
    "        if row[-1] != \"\": # some positions are missing\n",
    "            sql_values = [valueOf(row[headerIndex[k]], headers[k]) for k in headers.keys()]\n",
    "            values_combined = ','.join(sql_values)\n",
    "            columns = ','.join(headers.keys())\n",
    "            sql += f\"INSERT INTO {name} ( {columns} ) VALUES ({values_combined});\\n\"\n",
    "    return sql"
   ]
  },
  {
   "cell_type": "code",
   "execution_count": null,
   "metadata": {
    "slideshow": {
     "slide_type": "slide"
    }
   },
   "outputs": [],
   "source": [
    "# makeSQLFile('digging')"
   ]
  },
  {
   "cell_type": "markdown",
   "metadata": {},
   "source": [
    "# Your turn\n",
    "1. The generated datafile is in the 'data' folder at https://github.com/datsoftlyngby/soft2019spring-databases\n",
    "2. Make a schema (I called mine copenhagen) for the table, and load the table from the 'digging.sql'\n",
    "3. Which kind of activities are they digging for?\n",
    "4. How many diggings are taking place within a radius of 500 meters from the main square (Rådhuspladsen) \n",
    "    * main square is at (55.6867243, 12.5700724)"
   ]
  },
  {
   "cell_type": "code",
   "execution_count": null,
   "metadata": {
    "slideshow": {
     "slide_type": "skip"
    }
   },
   "outputs": [],
   "source": [
    "import sys\n",
    "import mysql.connector\n",
    "\n",
    "def rootconnect():\n",
    "    try:\n",
    "        pw = 'deterentysker!42snapsnap'\n",
    "        conn = mysql.connector.connect( host='localhost', database='copenhagen',user='root', password=pw)\n",
    "        conn.autocommit = True\n",
    "        return conn;\n",
    "    except Exception as ex:\n",
    "        print(str(ex), file=sys.stderr)\n",
    "    \n",
    "\n",
    "conn = rootconnect()\n",
    "\n",
    "def sqlQuery(sqlString):\n",
    "    global conn\n",
    "    try:\n",
    "        if not conn.is_connected():\n",
    "            conn = rootconnect()\n",
    "        cursor = conn.cursor()\n",
    "        cursor.execute(sqlString)\n",
    "        res = cursor.fetchall()\n",
    "        return res\n",
    "    except Exception as ex:\n",
    "        print(str(ex), file=sys.stderr)\n",
    "    finally:    \n",
    "        cursor.close()"
   ]
  },
  {
   "cell_type": "markdown",
   "metadata": {
    "slideshow": {
     "slide_type": "slide"
    }
   },
   "source": [
    "# Showing things on a map (from jupyter)\n",
    "### Plotting to Maps with Folium\n",
    "\n",
    "https://github.com/python-visualization/folium\n",
    "\n",
    "`pip install folium`\n",
    "\n",
    "### [Starter examples](https://python-visualization.github.io/folium/quickstart.html)\n"
   ]
  },
  {
   "cell_type": "code",
   "execution_count": null,
   "metadata": {
    "slideshow": {
     "slide_type": "slide"
    }
   },
   "outputs": [],
   "source": [
    "fibernet = sqlQuery(\"\"\"\n",
    "with dig as (\n",
    "        select grave_art as kind,\n",
    "            bygherre as constructor,\n",
    "            ST_Longitude(wkb_geometry) as lng,\n",
    "            ST_Latitude(wkb_geometry) as lat\n",
    "        from copenhagen.digging)\n",
    "select * \n",
    "from dig \n",
    "where kind = \"Fibernet\"\n",
    "\"\"\")\n",
    "fibernet"
   ]
  },
  {
   "cell_type": "code",
   "execution_count": null,
   "metadata": {
    "slideshow": {
     "slide_type": "slide"
    }
   },
   "outputs": [],
   "source": [
    "import folium\n",
    "# create empty map zoomed in on Copenhagen\n",
    "cph_loc = (55.6867243, 12.5700724)\n",
    "map = folium.Map(location=cph_loc, zoom_start=12)\n",
    "\n",
    "for each in fibernet:\n",
    "    folium.Marker([each[2], each[3]], popup=each[1]).add_to(map)\n",
    "  \n",
    "map"
   ]
  },
  {
   "cell_type": "markdown",
   "metadata": {
    "slideshow": {
     "slide_type": "slide"
    }
   },
   "source": [
    "# Geometric datatypes\n",
    "A Geometric value has several aspects:\n",
    "* Its type (point, line, area)\n",
    "* SRID (0 is the flat plane, 4326 is the normal latitude, longitude coordinates\n",
    "* Its coordinates\n",
    "* interior, boundary, and exterior\n",
    "* MBR (minimum bounding rectangle)\n",
    "* closed or not closed\n",
    "* dimension. A geometry can have a dimension of −1, 0, 1, or 2 (empty, point, line, area)"
   ]
  },
  {
   "cell_type": "markdown",
   "metadata": {
    "slideshow": {
     "slide_type": "slide"
    }
   },
   "source": [
    "# Spatial operators"
   ]
  },
  {
   "cell_type": "markdown",
   "metadata": {
    "slideshow": {
     "slide_type": "fragment"
    }
   },
   "source": [
    "## There are many!!\n",
    "See section [12.16.1 Spatial Function Reference](https://dev.mysql.com/doc/refman/8.0/en/spatial-function-reference.html)"
   ]
  },
  {
   "cell_type": "markdown",
   "metadata": {
    "slideshow": {
     "slide_type": "fragment"
    }
   },
   "source": [
    "#### In particular\n",
    "* MBRContains(), MBRCoveredBy(), MBRCovers(), MBRDisjoint(), MBRIntersects(), MBROverlaps(), MBRTouches(), MBRWithin()\n",
    "* ST_Crosses(), ST_Contains(), ST_Touches(), ...\n",
    "* ST_Distance(), ST_Distance_Sphere()"
   ]
  },
  {
   "cell_type": "markdown",
   "metadata": {
    "slideshow": {
     "slide_type": "slide"
    }
   },
   "source": [
    "# Are they digging in any of the parks of Copenhagen\n",
    "\n",
    "http://wfs-kbhkort.kk.dk/ $\\rightarrow$ Layer Preview $\\rightarrow$ parkregister\n",
    "\n",
    "http://wfs-kbhkort.kk.dk/k101/ows?service=WFS&version=1.0.0&request=GetFeature&typeName=k101:parkregister&maxFeatures=50&outputFormat=application%2Fjson"
   ]
  },
  {
   "cell_type": "markdown",
   "metadata": {
    "slideshow": {
     "slide_type": "fragment"
    }
   },
   "source": [
    "(Btw, I handedit the link above - I start out from picking \"geojson\", and then remove \"maxFeatures=50\", and change output format to csv\n",
    "\n",
    "http://wfs-kbhkort.kk.dk/k101/ows?service=WFS&version=1.0.0&request=GetFeature&typeName=k101:parkregister&outputFormat=csv"
   ]
  },
  {
   "cell_type": "code",
   "execution_count": null,
   "metadata": {
    "slideshow": {
     "slide_type": "slide"
    }
   },
   "outputs": [],
   "source": [
    "park_headers = {\n",
    "    'areal_id':'INT',\n",
    "    'navn_arealer': 'VARCHAR(100)',\n",
    "    'parktype' : 'VARCHAR(100)',\n",
    "    'wkb_geometry' : 'GEOMETRY NOT NULL SRID 4326'\n",
    "}\n",
    "# makeSQLFile('parkregister', park_headers)"
   ]
  },
  {
   "cell_type": "markdown",
   "metadata": {
    "slideshow": {
     "slide_type": "slide"
    }
   },
   "source": [
    "# Indexing spatial data\n",
    "![](images/R-tree.png)"
   ]
  },
  {
   "cell_type": "markdown",
   "metadata": {
    "slideshow": {
     "slide_type": "slide"
    }
   },
   "source": [
    "# R-index for geospatial data\n",
    "Walnut Creek, California (https://geoffboeing.com/2016/10/r-tree-spatial-index-python/)\n",
    "\n",
    "| area | area and points |\n",
    "|------|-----|\n",
    "|![](https://i2.wp.com/geoffboeing.com/wp-content/uploads/2016/10/walnut-creek-city-boundary.png)|![](https://i0.wp.com/geoffboeing.com/wp-content/uploads/2016/10/walnut-creek-boundary-intersections.png)|\n"
   ]
  },
  {
   "cell_type": "markdown",
   "metadata": {
    "slideshow": {
     "slide_type": "slide"
    }
   },
   "source": [
    "| area | area and points |\n",
    "|------|-----|\n",
    "|![](https://i0.wp.com/geoffboeing.com/wp-content/uploads/2016/10/los-angeles-boundary-subdivided.png)|![](https://i2.wp.com/geoffboeing.com/wp-content/uploads/2016/10/los-angeles-boundary-quadrats-intersections.png)|"
   ]
  },
  {
   "cell_type": "markdown",
   "metadata": {
    "slideshow": {
     "slide_type": "slide"
    }
   },
   "source": [
    "# Sample\n",
    "Are they digging in any parks?\n",
    "```mysql\n",
    "select \n",
    "    navn_arealer, \n",
    "    parktype,\n",
    "\tgrave_art, \n",
    "    ST_Longitude(digging.wkb_geometry) as lng,\n",
    "\tST_Latitude(digging.wkb_geometry) as lat\n",
    "from digging, parkregister\n",
    "where ST_Contains(parkregister.wkb_geometry, digging.wkb_geometry);\n",
    "```"
   ]
  },
  {
   "cell_type": "code",
   "execution_count": null,
   "metadata": {
    "slideshow": {
     "slide_type": "slide"
    }
   },
   "outputs": [],
   "source": [
    "park_digging = sqlQuery(\"\"\"\n",
    "select navn_arealer, parktype,\n",
    "    grave_art, \n",
    "    ST_Longitude(digging.wkb_geometry) as lng,\n",
    "    ST_Latitude(digging.wkb_geometry) as lat\n",
    "from digging,parkregister\n",
    "where ST_Contains(parkregister.wkb_geometry, digging.wkb_geometry);\n",
    "\"\"\")\n",
    "\n",
    "import folium\n",
    "# create empty map zoomed in on Copenhagen\n",
    "cph_loc = (55.6867243, 12.5700724)\n",
    "map = folium.Map(location=cph_loc, zoom_start=12)\n",
    "\n",
    "for each in park_digging:\n",
    "    folium.Marker([each[3], each[4]], popup=each[2]).add_to(map)"
   ]
  },
  {
   "cell_type": "code",
   "execution_count": null,
   "metadata": {
    "slideshow": {
     "slide_type": "slide"
    }
   },
   "outputs": [],
   "source": [
    "  map"
   ]
  },
  {
   "cell_type": "markdown",
   "metadata": {
    "slideshow": {
     "slide_type": "slide"
    }
   },
   "source": [
    "# Adding indexes\n",
    "```mysql\n",
    "ALTER TABLE digging ADD SPATIAL INDEX(wkb_geometry);\n",
    "ALTER TABLE parkregister ADD SPATIAL INDEX(wkb_geometry);\n",
    "```\n",
    "\n",
    "or dropping it:\n",
    "```mysql\n",
    "DROP INDEX wkb_geometry ON digging;\n",
    "DROP INDEX wkb_geometry ON parkregister;\n",
    "```\n",
    "\n"
   ]
  },
  {
   "cell_type": "markdown",
   "metadata": {
    "slideshow": {
     "slide_type": "slide"
    }
   },
   "source": [
    "# Assignment\n",
    "\n",
    "At https://github.com/datsoftlyngby/soft2019spring-databases/blob/master/assignments/assignment10.md"
   ]
  }
 ],
 "metadata": {
  "celltoolbar": "Slideshow",
  "kernelspec": {
   "display_name": "Python 3",
   "language": "python",
   "name": "python3"
  },
  "language_info": {
   "codemirror_mode": {
    "name": "ipython",
    "version": 3
   },
   "file_extension": ".py",
   "mimetype": "text/x-python",
   "name": "python",
   "nbconvert_exporter": "python",
   "pygments_lexer": "ipython3",
   "version": "3.7.2"
  }
 },
 "nbformat": 4,
 "nbformat_minor": 2
}
