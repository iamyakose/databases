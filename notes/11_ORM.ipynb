{
 "cells": [
  {
   "cell_type": "markdown",
   "metadata": {
    "slideshow": {
     "slide_type": "slide"
    }
   },
   "source": [
    "# 11 Object relational mapping\n",
    "\n",
    "* Follow up on last exercise\n",
    "\n",
    "* The issue to be solved\n",
    "* Mapping strategies\n",
    "* Specifying the mapping\n",
    "* Object caching and lazy load\n",
    "* Transactions\n",
    "* Querying \n",
    "    LINQ\n",
    "* Code generation"
   ]
  },
  {
   "cell_type": "markdown",
   "metadata": {
    "slideshow": {
     "slide_type": "slide"
    }
   },
   "source": [
    "# Mapping strategies\n",
    "### Simple values\n",
    "More or less the same in programming language and SQL (numbers, booleans and string)\n",
    "\n",
    "* Annoying difference: Dates"
   ]
  },
  {
   "cell_type": "markdown",
   "metadata": {
    "slideshow": {
     "slide_type": "fragment"
    }
   },
   "source": [
    "### Serious differences\n",
    "* Lists and non-sql values\n",
    "* Many to many relationships\n",
    "* (Inheritance)\n",
    "* Roles"
   ]
  },
  {
   "cell_type": "markdown",
   "metadata": {
    "slideshow": {
     "slide_type": "slide"
    }
   },
   "source": [
    "# Lists and non-sql value\n",
    "```java\n",
    "class Road {\n",
    "    String name;\n",
    "    PolyLine location;\n",
    "}\n",
    "class PolyLine {\n",
    "    List<Coordinate> points;\n",
    "    boolean closed;\n",
    "}\n",
    "```\n",
    "### How to represent PolyLine in the road table?"
   ]
  },
  {
   "cell_type": "markdown",
   "metadata": {
    "slideshow": {
     "slide_type": "slide"
    }
   },
   "source": [
    "# convert to/from string\n",
    "```java\n",
    "class PolyLine {\n",
    "    String toString(){\n",
    "        return String.join(\",\", points.map(p-> \"\"+p.x+\" \"+p.y).toArray())+\";\"+closed;\n",
    "    }\n",
    "    static Road fromString(String str){\n",
    "        String[] pline = str.split(\";\");\n",
    "        closed = Boolean.valueOf(pline[1]);\n",
    "        var coords = pline.split(\",\"); # Java 10 has var - yay!\n",
    "        points = cords.map(p -> new Coordinate(p)).collect(Collectors.toList());\n",
    "    }    \n",
    "}\n",
    "```"
   ]
  },
  {
   "cell_type": "markdown",
   "metadata": {
    "slideshow": {
     "slide_type": "slide"
    }
   },
   "source": [
    "# serialize, json,...\n",
    "There is direct support for converting objects to/from strings in a number of ways:\n",
    "\n",
    "* json libraries\n",
    "* java's serializable (matches sql blobs quite well)\n",
    "* xml libraries\n",
    "\n",
    "\n"
   ]
  },
  {
   "cell_type": "markdown",
   "metadata": {
    "slideshow": {
     "slide_type": "slide"
    }
   },
   "source": [
    "# Null\n",
    "Databases allow null in an integer column. Programming languages mostly do not.\n",
    "\n",
    "* Default value (0, -1, MININT, MAXINT)\n",
    "* In Java: Integer vs. int"
   ]
  },
  {
   "cell_type": "markdown",
   "metadata": {
    "slideshow": {
     "slide_type": "slide"
    }
   },
   "source": [
    "# Mapping relationships\n",
    "\n",
    "There are three fundamental cardinalities to consider:\n",
    "* 1-1\tWife and Husband (most cultures)\n",
    "* 1-M\tMother and children\n",
    "* M-M\tCousins and Cousins\n",
    "\n",
    "1-1 is references vs foreign keys (and of the tables can hold the foreign key)<br>\n",
    "1-M is collections vs foreign keys (many side holds the foreign key)<br>\n",
    "M-M is collections - database need a separate table.<br>\n"
   ]
  },
  {
   "cell_type": "markdown",
   "metadata": {
    "slideshow": {
     "slide_type": "slide"
    }
   },
   "source": [
    "# Traversals\n",
    "Order-Orderlines-Products\n",
    "\n",
    "### Clases - you can have one-way \n",
    "For example - go from orderline to Product, but not the other way\n",
    "\n",
    "### Relational model\n",
    "You always have two way (by query, foreign key and index)"
   ]
  },
  {
   "cell_type": "markdown",
   "metadata": {
    "slideshow": {
     "slide_type": "slide"
    }
   },
   "source": [
    "# Dealing with inheritance\n",
    "Consider the inheritance structure (Vehicle is an abstract class)\n",
    "\n",
    "<img src=\"images/inheritance1.png\" width=\"40%\"/>"
   ]
  },
  {
   "cell_type": "markdown",
   "metadata": {
    "slideshow": {
     "slide_type": "slide"
    }
   },
   "source": [
    "## One big table\n",
    "Using one big table, we need a type attribute, and then all fields from the entire hierarchy.\n",
    "<img src=\"images/inheritance2.png\" width=\"40%\"/>\n",
    "\n",
    "### Advantages: \n",
    "* Easy to work with.\n",
    "* Polymorphism (type column)\n",
    "\n",
    "### Disadvantage:\n",
    "Null values"
   ]
  },
  {
   "cell_type": "markdown",
   "metadata": {
    "slideshow": {
     "slide_type": "slide"
    }
   },
   "source": [
    "## Table per class\n",
    "<img src=\"images/inheritance3.png\" width=\"40%\"/>\n",
    "\n",
    "### Advantages:\n",
    "* Easy – one to one\n",
    "* Polymorphism\n",
    "* Space efficient\n",
    "\n",
    "### Disadvantages:\n",
    "* More complicated to assemble all fields for Bus (well, you just make a view)\n",
    "* Many tables"
   ]
  },
  {
   "cell_type": "markdown",
   "metadata": {
    "slideshow": {
     "slide_type": "slide"
    }
   },
   "source": [
    "## Table per concrete class\n",
    "<img src=\"images/inheritance4.png\" width=\"40%\"/>\n",
    "\n",
    "### Advantages\n",
    "* Easy access, all info on an object in one table\n",
    "* Good space performance\n",
    "\n",
    "### Disadvantage\n",
    "Harder to evolve (change to the hierarchy might change many tables)"
   ]
  },
  {
   "cell_type": "code",
   "execution_count": 5,
   "metadata": {
    "slideshow": {
     "slide_type": "skip"
    }
   },
   "outputs": [
    {
     "data": {
      "text/html": [
       "<style> \n",
       "table td, table th, table tr {text-align:left !important;}\n",
       "</style>"
      ],
      "text/plain": [
       "<IPython.core.display.HTML object>"
      ]
     },
     "metadata": {},
     "output_type": "display_data"
    }
   ],
   "source": [
    "%%html\n",
    "<style> \n",
    "table td, table th, table tr {text-align:left !important;}\n",
    "</style>"
   ]
  },
  {
   "cell_type": "markdown",
   "metadata": {
    "slideshow": {
     "slide_type": "slide"
    }
   },
   "source": [
    "# Your turn\n",
    "\n",
    "Which tables should we have, and what sql types to use\n",
    "<table align=\"left\"><tr>\n",
    "    <td><img src=\"images/inheritance5.png\" width=\"60%\"/></td>\n",
    "    \n",
    "<td align=\"left\">\n",
    "    <h4>Fields:</h4>\n",
    "Person: Name string<br>\n",
    "Person: Emails set.<br>\n",
    "Student: Enrolled (year) integer<br>\n",
    "Professor: CV string<br>\n",
    "TA: hours (how many hours employed) int<br>\n",
    "Course: Max (no of students) int<br>\n",
    "    <h4> Relationships:</h4>\n",
    "enrollment: Many-Many<br>\n",
    "teaches: Fictively, we assume that a given TA must at most teach one course.<br>\n",
    "responsible:\n",
    "A given course has one responsible, who might be responsible for several courses.|\n",
    "</td></tr></table>\n"
   ]
  },
  {
   "cell_type": "markdown",
   "metadata": {
    "slideshow": {
     "slide_type": "slide"
    }
   },
   "source": [
    "# Semester eval\n",
    "\n",
    "* One general eval on all courses\n",
    "* Delphi model \n",
    "    - mention 3 things which works well, \n",
    "    - and three to be improved\n",
    "    - and we try to reach concensus\n",
    "    - and discuss how to solve issue"
   ]
  },
  {
   "cell_type": "markdown",
   "metadata": {
    "slideshow": {
     "slide_type": "fragment"
    }
   },
   "source": [
    "    \n",
    "## Delphi in groups of three/four\n",
    "## Not your working groups\n",
    "Write your answers here:\n",
    "\n",
    "https://drive.google.com/open?id=17U6rVbx2DUG747mknIge1sdWzxA6QEwO_q-XMYHM480"
   ]
  },
  {
   "cell_type": "markdown",
   "metadata": {
    "slideshow": {
     "slide_type": "slide"
    }
   },
   "source": [
    "# Specifying the mapping\n"
   ]
  },
  {
   "cell_type": "markdown",
   "metadata": {
    "slideshow": {
     "slide_type": "slide"
    }
   },
   "source": [
    "```java\n",
    "public class Author\n",
    "{\n",
    "    private int authorId;\n",
    "    private String authorName;\n",
    "    \n",
    "    private Set<Book> books;\n",
    "    \n",
    "    // Omitted constructors and getter/sette\n",
    "}\n",
    "```"
   ]
  },
  {
   "cell_type": "markdown",
   "metadata": {
    "slideshow": {
     "slide_type": "slide"
    }
   },
   "source": [
    "# XML (old school hipernate)\n",
    "```xml\n",
    "<?xml version=\"1.0\"?>\n",
    "<!DOCTYPE hibernate-mapping PUBLIC \"-//Hibernate/Hibernate Mapping DTD 3.0//EN\"\n",
    "\"http://hibernate.sourceforge.net/hibernate-mapping-3.0.dtd\">\n",
    "  <hibernate-mapping package=\"dk.ohno\">\n",
    "    <class name=\"Author\" table=\"AUTHOR\">\n",
    "      <id name=\"authorId\" column=\"AUTHOR_ID\" type=\"java.lang.Integer\">\n",
    "        <generator class=\"native\"></generator>\n",
    "      </id>\n",
    "      <property name=\"authorName\" column=\"AUTHOR_NAME\"></property>\n",
    "      <set name=\"books\" inverse=\"true\" lazy=\"true\" cascade=\"all\" fetch=\"select\">\n",
    "        <key column=\"AUTHOR_ID\" not-null=\"true\" />\n",
    "           <one-to-many class=\"Book\" />\n",
    "      </set>\n",
    "   </class>\n",
    "</hibernate-mapping>\n",
    "```"
   ]
  },
  {
   "cell_type": "markdown",
   "metadata": {
    "slideshow": {
     "slide_type": "slide"
    }
   },
   "source": [
    "```xml\n",
    "<set name=\"books\" inverse=\"true\" lazy=\"true\" cascade=\"all\" fetch=\"select\">\n",
    "    <key column=\"AUTHOR_ID\" not-null=\"true\" />\n",
    "    <one-to-many class=\"Book\" />\n",
    "</set>\n",
    "```\n",
    "Notice in particular the `books` specification. It specifies:\n",
    "* `inverse` (foreign key in books), \n",
    "* `lazy` load (books are not loaded with authors), \n",
    "* `cascade all` (what happens when you delete an author), \n",
    "* `fetch=select` (alternative is `join` - and should only be used with `lazy=false`)."
   ]
  },
  {
   "cell_type": "markdown",
   "metadata": {},
   "source": [
    "Above example was taken from [https://www.javainterviewpoint.com/hibernate-one-many-mapping-example-xml-mapping/](https://www.javainterviewpoint.com/hibernate-one-many-mapping-example-xml-mapping/)\n",
    "\n",
    "which btw has these three sections:\n",
    "![](images/xmlmapping1.png)\n"
   ]
  },
  {
   "cell_type": "markdown",
   "metadata": {
    "slideshow": {
     "slide_type": "slide"
    }
   },
   "source": [
    "# Annotation specification\n",
    "This is the modern way of specifying in .Net and JPA (Java Persistence API)"
   ]
  },
  {
   "cell_type": "markdown",
   "metadata": {
    "slideshow": {
     "slide_type": "slide"
    }
   },
   "source": [
    "# JPA Spec\n",
    "```java\n",
    "@Entity\n",
    "@Table(name = \"employee\")\n",
    "public class Employee implements Serializable {\n",
    "   \n",
    "  @Id\n",
    "  @Column(name = \"id\")\n",
    "  @GeneratedValue\n",
    "  private int id;\n",
    "   \n",
    "  @OneToOne(cascade = CascadeType.MERGE)\n",
    "  @PrimaryKeyJoinColumn\n",
    "  private EmployeeDetail employeeDetail;\n",
    "}\n",
    " \n",
    "@Entity\n",
    "@Table(name = \"employeeDetail\")\n",
    "public class EmployeeDetail implements Serializable {\n",
    " \n",
    "  @Id\n",
    "  @Column(name = \"id\")\n",
    "  private int id;\n",
    "}\n",
    "```"
   ]
  },
  {
   "cell_type": "markdown",
   "metadata": {
    "slideshow": {
     "slide_type": "slide"
    }
   },
   "source": [
    "# Entity framework Spec\n",
    "Entity Framework is place emphasis on defaults, but here we override most for clearity\n",
    "\n",
    "```csharp\n",
    "[Table(\"StudentInfo\")]\n",
    "public class Student\n",
    "{\n",
    "    public Student() { }\n",
    "        \n",
    "    [Key]\n",
    "    public int SID { get; set; }\n",
    "\n",
    "    [Column(\"Name\", TypeName=\"ntext\")]\n",
    "    [MaxLength(20)]\n",
    "    public string StudentName { get; set; }\n",
    "\n",
    "    [NotMapped]\n",
    "    public int? Age { get; set; }\n",
    "        \n",
    "        \n",
    "    public int StdId { get; set; }\n",
    "\n",
    "    [ForeignKey(\"StdId\")]\n",
    "    public virtual Standard Standard { get; set; }\n",
    "}\n",
    "```"
   ]
  },
  {
   "cell_type": "markdown",
   "metadata": {
    "slideshow": {
     "slide_type": "slide"
    }
   },
   "source": [
    "# Loading objects from database"
   ]
  },
  {
   "cell_type": "markdown",
   "metadata": {
    "slideshow": {
     "slide_type": "slide"
    }
   },
   "source": [
    "# Mapping a reference (recap)\n",
    "```java\n",
    "class Car {\n",
    "\tint KEY;\n",
    "\tstring make;\n",
    "\tPerson Owner;\n",
    "}\n",
    "class Person{\n",
    "\tint Key;\n",
    "\tstring name;\n",
    "}\n",
    "```\n",
    "```\n",
    "Table Car( int: KEY, make: string, Owner: int );\n",
    "Table Person( int: KEY, name: string);\n",
    "```"
   ]
  },
  {
   "cell_type": "markdown",
   "metadata": {},
   "source": [
    "# Loading the Person - when\n",
    "When do we translate the integer Owner in the Car table to reference Owner in the object?\n",
    "\n",
    "* When the object is loaded – *eager load*.\n",
    "* First time the reference field Owner is used – *lazy load*.\n",
    "\n",
    "The ORM allow you to specify strategy"
   ]
  },
  {
   "cell_type": "markdown",
   "metadata": {
    "slideshow": {
     "slide_type": "slide"
    }
   },
   "source": [
    "# Lazy load\n",
    "Lazy load can be done in different ways:\n",
    "* A pseudo object/proxy is created. \n",
    "* We store the integer version of Owner in the class:"
   ]
  },
  {
   "cell_type": "markdown",
   "metadata": {
    "slideshow": {
     "slide_type": "fragment"
    }
   },
   "source": [
    "### Proxy\n",
    "Rather than loading the object, we return an object which implement the same interface, but which have not (yet) retrieved any data from the database."
   ]
  },
  {
   "cell_type": "markdown",
   "metadata": {
    "slideshow": {
     "slide_type": "slide"
    }
   },
   "source": [
    "# Eager load\n",
    "\n",
    "When you load an object X which has a reference to Y, you also load Y.\n",
    "\n",
    "Loading both objects requires only one access to the database (you join to get both in one wide table)"
   ]
  },
  {
   "cell_type": "markdown",
   "metadata": {
    "slideshow": {
     "slide_type": "slide"
    }
   },
   "source": [
    "### Eager load of collections\n",
    "Especially important when Y is a collection which can fit in memory.\n",
    "\n",
    "This prevents lazy loading of each element in the collection.\n",
    "<img src=\"images/eagerload.png\" width=\"50%\" />\n",
    "\n",
    "The issue is if you use lazy load you end up with a list of proxy objects, and then accessing each object in the collection will result in a database roundtrip."
   ]
  },
  {
   "cell_type": "markdown",
   "metadata": {
    "slideshow": {
     "slide_type": "slide"
    }
   },
   "source": [
    "# Combinations of eager and lazy are possible:\n",
    "* Eager load of only some attributes. Eg. lazy load of large pictures\n",
    "* Eager load of a collection, but only the Name attribute of the elements (to enable showing them in a list)\n",
    "\n",
    "In general, it is situation dependent what combination is most efficient.\n",
    "\n",
    "### Choosing the wrong combination can kill you application!\n"
   ]
  },
  {
   "cell_type": "markdown",
   "metadata": {
    "slideshow": {
     "slide_type": "slide"
    }
   },
   "source": [
    "# The table/object manager\n",
    "To manage the creation of objects, there are at least two important requirements:\n",
    "* We want to avoid to create the two objects based on the same row. \n",
    "* We want make sure we only created objects for those rows which are needed.\n",
    "\n",
    "A standard way to ensure that only a single copy of each row is created is:\n",
    "* We notice that each row has a unique key.\n",
    "* We create a Hashmap, mapping key to objects\n",
    "* When we ask for an object, we check the map, \n",
    "    * if it is *not* there, we get it from the database. \n",
    "    * If it is there, we just get a reference to it."
   ]
  },
  {
   "cell_type": "markdown",
   "metadata": {
    "slideshow": {
     "slide_type": "slide"
    }
   },
   "source": [
    "    \n",
    "# Transactions\n",
    "A transaction is structured as usual:\n",
    "```\n",
    "BEGIN\n",
    "\tread and modify your objects\n",
    "COMMIT or ABORT\n",
    "```\n",
    "\n",
    "One might wonder how to abort a number of changes done to objects. "
   ]
  },
  {
   "cell_type": "markdown",
   "metadata": {
    "slideshow": {
     "slide_type": "slide"
    }
   },
   "source": [
    "## Dirty list\n",
    "\n",
    "When an object changes its state it is added to a dirty-list. This happens in the setter:\n",
    "```\n",
    "class Person {\n",
    "\t…\n",
    "\tprivate float weight;\n",
    "\tpublic float Weight{\n",
    "\t\tget{\t… get from database …}\n",
    "\t\tset{\tweight = value;\n",
    "\t\t\t\tObjectManager.addDirty(this);\n",
    "}\t}\t}\n",
    "```"
   ]
  },
  {
   "cell_type": "markdown",
   "metadata": {
    "slideshow": {
     "slide_type": "slide"
    }
   },
   "source": [
    "### Commit or rollback\n",
    "\n",
    "1. When a transaction begins, the dirty set empty (or it is emptied)\n",
    "\n",
    "2. No writes to the database occurs during the transaction.\n",
    "\n",
    "3. A commit can then write all changed objects in the dirty list to the database.\n",
    "\n",
    "4. A abort will remove all objects in the dirty set from the object manager. They will then be re-read from the database (lazily or eagerly)."
   ]
  },
  {
   "cell_type": "markdown",
   "metadata": {},
   "source": [
    "# Garbage collection issue\n",
    "How to prevent the entity manager hashmap from keeping all objects alive forever?\n",
    "\n",
    "### WeakHashMap"
   ]
  },
  {
   "cell_type": "markdown",
   "metadata": {
    "slideshow": {
     "slide_type": "slide"
    }
   },
   "source": [
    "# Queries\n",
    "\n",
    "Both JPA and .Net has a query language."
   ]
  },
  {
   "cell_type": "markdown",
   "metadata": {
    "slideshow": {
     "slide_type": "slide"
    }
   },
   "source": [
    "# JPA JPQL query language\n",
    "A well designed query language which works in object terms.\n",
    "```java\n",
    "Query query = entitymanager.\n",
    "    createQuery(\"Select UPPER(e.ename) from Employee e\");\n",
    "List<String> list = query.getResultList();\n",
    "```\n",
    "\n",
    "#### Aggregation\n",
    "```java\n",
    "Query query1 = entitymanager.createQuery(\"Select MAX(e.salary) from Employee e\");\n",
    "Double result = (Double) query1.getSingleResult();\n",
    "System.out.println(\"Max Employee Salary :\" + result);\n",
    "```"
   ]
  },
  {
   "cell_type": "markdown",
   "metadata": {
    "slideshow": {
     "slide_type": "slide"
    }
   },
   "source": [
    "# LINQ (Language INtegrated Query)\n",
    "Linq is a query syntax over iterables and queryables.\n",
    "\n",
    "```csharp\n",
    "var res = from c in Customers, o in c.Orders, d in o.Details\n",
    "    where o.quantityOrdered > 10\n",
    "    select new {c.customerName, o.product.productName}\n",
    "```"
   ]
  },
  {
   "cell_type": "markdown",
   "metadata": {
    "slideshow": {
     "slide_type": "slide"
    }
   },
   "source": [
    "#### Aggregation\n",
    "```csharp\n",
    "from c in customers\n",
    "select new {custName = c.customerName, \n",
    "            val = c.orders.Sum(o=> o.orderdetails.Sum(d => d.priceEach))}\n",
    "```\n",
    "\n",
    "#### Group by\n",
    "```csharp\n",
    "from c in customers\n",
    "group c by c.country into newGroup\n",
    "select new {country = newGroup.Key, \n",
    "            paym = newGroup.Sum(cust=> cust.payments.Sum(p => p.amount))}\n",
    "```"
   ]
  },
  {
   "cell_type": "markdown",
   "metadata": {},
   "source": [
    "# Language integrated\n",
    "Type safe, compile time check, code completion\n",
    "\n",
    "Thin layer over iterable:\n",
    "\n",
    "```csharp\n",
    "Connection.customers\n",
    "   .Select (\n",
    "      c => \n",
    "         new  \n",
    "         {\n",
    "            custName = c.customerName, \n",
    "            val = c.orders.Sum (o => o.orderdetails.Sum (d => d.priceEach))\n",
    "         }\n",
    "   )\n",
    "```"
   ]
  },
  {
   "cell_type": "markdown",
   "metadata": {
    "slideshow": {
     "slide_type": "slide"
    }
   },
   "source": [
    "# Linq under the hood\n",
    "\n",
    "## Translates C# expressions to SQL\n",
    "Show in Linqpad"
   ]
  },
  {
   "cell_type": "markdown",
   "metadata": {
    "slideshow": {
     "slide_type": "slide"
    }
   },
   "source": [
    "## Special methods receive **unevaluated** expressions as arguments\n",
    "Show in Linqpad the syntax tree of a simple query"
   ]
  },
  {
   "cell_type": "markdown",
   "metadata": {
    "slideshow": {
     "slide_type": "slide"
    }
   },
   "source": [
    "## Custom drivers\n",
    "[LINQ to Mongodb](https://mongodb-documentation.readthedocs.io/en/latest/ecosystem/tutorial/use-linq-queries-with-csharp-driver.html)\n",
    "```csharp\n",
    "var query =\n",
    "    from c in collection.AsQueryable<C>()\n",
    "    where (c.X % 2 == 0) && (c.X % 3 == 0)\n",
    "    select c;\n",
    "```\n",
    "\n",
    "translates into:\n",
    "`{ $and : [{ X : { $mod : [2, 0] } }, { X : { $mod : [3, 0] } }] }`"
   ]
  },
  {
   "cell_type": "markdown",
   "metadata": {
    "slideshow": {
     "slide_type": "slide"
    }
   },
   "source": [
    "# Your turn to use Linqpad\n",
    "To be able to use it you have to go through the following setup:\n",
    "\n",
    "1. A connection to the database must be established. The database we need\n",
    "is a MySQL database running on digitalocean on a server in frankfurt. To connect to MySQL you must use a 3rd party Linq Provider.\n",
    "2. On the left side of LinqPad, select \"Add connection\"\n",
    "3. You are now prompted to select Data Context. Near the bottom left there is an option called \"View more drivers ...\" - select it.\n",
    "4. In my edition, one appears at the top called <br>\n",
    "\"IQ Driver for MySQL, SQLite, Oracle\". <br> It works well for me.\n",
    "5. I'm a little bit uncertain about how it installs (since I've already done it - and \"don't rock the boat ...\"). But when I select \"Add connction\", I can now select \"IQ\" under the list that supports \"Build context automatically\".\n",
    "6. You will now be asked about various info to connect to the database. The keywords here are:\n",
    "  - Server: 46.101.253.149\n",
    "  - Database: classicmodels\n",
    "  - User Name: linquser\n",
    "  - Password: enormslAngt88$kAufmann\n",
    "  - Port number is set by default to 3306, which is correct.\n",
    "\n",
    " This user can only read the database, so there is no major security risk (in addition to any gaps in MySQL).\n",
    " \n",
    "## Your queries\n",
    "\n",
    "1. for each customer find the total payment done by that customer (print customer name and total payment)\n",
    "2. same as above, but only for those whose total payment is less than 30000\n",
    "3. for each productline, find out how many products have been sold. List productline and total\n",
    "4. find out how many `Vintage Car` products has been sold in each country\n",
    "\n"
   ]
  },
  {
   "cell_type": "markdown",
   "metadata": {
    "slideshow": {
     "slide_type": "slide"
    }
   },
   "source": [
    "# Generating code\n",
    "![](images/generator1.png)"
   ]
  },
  {
   "cell_type": "markdown",
   "metadata": {
    "slideshow": {
     "slide_type": "slide"
    }
   },
   "source": [
    "![](images/generator2.png)"
   ]
  },
  {
   "cell_type": "markdown",
   "metadata": {
    "slideshow": {
     "slide_type": "slide"
    }
   },
   "source": [
    "## Different ways to input to the generator\n",
    "Template based code generation\n",
    "\n",
    "Web 1.0 model of server side HTML generation\n",
    "\n",
    "### DSL - Domain specific language\n",
    "* Often in the form of a json or xml document. (As I did in week 10 on Spatial databases)\n",
    "* Heavy duty - your own parser and compiler\n",
    "* Sometimes in the form \"dedicated classes\""
   ]
  },
  {
   "cell_type": "markdown",
   "metadata": {
    "slideshow": {
     "slide_type": "slide"
    }
   },
   "source": [
    "# Dedicated classes approach\n",
    "```java\n",
    "class Attribute {\n",
    "    String fieldName;\n",
    "    String typeName;\n",
    "    public Attribute(String f, String t){ fieldName = f; typeName = t;}\n",
    "}\n",
    "class Entity {\n",
    "    String name;\n",
    "    List<Attribute> attributes = new ArrayList<>();\n",
    "    public Entity(String n) {name = n;}\n",
    "    public Entity add(Attribute a){\n",
    "        attributes.add(a);\n",
    "        return this;\n",
    "    }\n",
    "}\n",
    "```"
   ]
  },
  {
   "cell_type": "markdown",
   "metadata": {
    "slideshow": {
     "slide_type": "slide"
    }
   },
   "source": [
    "# Sample usage\n",
    "```java\n",
    "road = new Entity(\"Road)\n",
    "         .add(new Attribute('name','String'))\n",
    "         .add(new Attribute('maxNo','int'))\n",
    "         .add(new Attribute('city', 'String'));\n",
    "```"
   ]
  },
  {
   "cell_type": "markdown",
   "metadata": {
    "slideshow": {
     "slide_type": "slide"
    }
   },
   "source": [
    "# Java class generation\n",
    "```java\n",
    "class Entity { ... as before\n",
    "    String asJavaClass(){\n",
    "        String code = \"class \" + name + \"{\\n\";\n",
    "        for (var a : attributes)\n",
    "            code += a.asJavaCode()+\"\\n\";\n",
    "        return code+\"}\";\n",
    "    }\n",
    "    String asSQLTableDef(){\n",
    "        ...\n",
    "    }\n",
    "}\n",
    "```    "
   ]
  },
  {
   "cell_type": "markdown",
   "metadata": {},
   "source": [
    "# [Assignment](https://github.com/datsoftlyngby/soft2019spring-databases/blob/master/assignments/assignment11.md)\n",
    "\n"
   ]
  }
 ],
 "metadata": {
  "celltoolbar": "Slideshow",
  "kernelspec": {
   "display_name": "Python 3",
   "language": "python",
   "name": "python3"
  },
  "language_info": {
   "codemirror_mode": {
    "name": "ipython",
    "version": 3
   },
   "file_extension": ".py",
   "mimetype": "text/x-python",
   "name": "python",
   "nbconvert_exporter": "python",
   "pygments_lexer": "ipython3",
   "version": "3.7.2"
  }
 },
 "nbformat": 4,
 "nbformat_minor": 2
}
