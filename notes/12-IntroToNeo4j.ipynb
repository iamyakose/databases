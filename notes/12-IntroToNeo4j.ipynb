{
 "cells": [
  {
   "cell_type": "markdown",
   "metadata": {
    "button": false,
    "new_sheet": false,
    "run_control": {
     "read_only": false
    },
    "slideshow": {
     "slide_type": "slide"
    }
   },
   "source": [
    "# Intro to Graph Databases"
   ]
  },
  {
   "cell_type": "markdown",
   "metadata": {
    "slideshow": {
     "slide_type": "slide"
    }
   },
   "source": [
    "# Solution to ORM\n",
    "See solution [at this github repository](https://github.com/kaspercphbusiness/PicoOrm)"
   ]
  },
  {
   "cell_type": "code",
   "execution_count": null,
   "metadata": {
    "button": false,
    "new_sheet": false,
    "run_control": {
     "read_only": false
    },
    "slideshow": {
     "slide_type": "slide"
    }
   },
   "outputs": [],
   "source": [
    "%%bash\n",
    "docker run \\\n",
    "    -d --name neo4j \\\n",
    "    --rm \\\n",
    "    --publish=7474:7474 \\\n",
    "    --publish=7687:7687 \\\n",
    "    --env NEO4J_AUTH=neo4j/fancy!99Doorknob \\\n",
    "    neo4j"
   ]
  },
  {
   "cell_type": "code",
   "execution_count": 1,
   "metadata": {
    "button": false,
    "new_sheet": false,
    "run_control": {
     "read_only": false
    },
    "slideshow": {
     "slide_type": "fragment"
    }
   },
   "outputs": [
    {
     "name": "stdout",
     "output_type": "stream",
     "text": [
      "CONTAINER ID        IMAGE               COMMAND                  CREATED             STATUS              PORTS                                                      NAMES\n",
      "b856f2cdbb92        neo4j               \"/sbin/tini -g -- /d…\"   8 days ago          Up 8 days           0.0.0.0:7474->7474/tcp, 7473/tcp, 0.0.0.0:7687->7687/tcp   neo4j\n",
      "d7f725f4c199        mysql               \"docker-entrypoint.s…\"   8 days ago          Up 8 days           0.0.0.0:3306->3306/tcp, 33060/tcp                          my_mysql\n"
     ]
    }
   ],
   "source": [
    "%%bash\n",
    "docker ps -a"
   ]
  },
  {
   "cell_type": "markdown",
   "metadata": {
    "button": false,
    "new_sheet": false,
    "run_control": {
     "read_only": false
    },
    "slideshow": {
     "slide_type": "slide"
    }
   },
   "source": [
    "Navigate to http://localhost:7474/browser/ to work with a browser based Neo4j console:\n",
    "\n",
    "![](./images/neo4j_login.png)"
   ]
  },
  {
   "cell_type": "markdown",
   "metadata": {
    "button": false,
    "new_sheet": false,
    "run_control": {
     "read_only": false
    },
    "slideshow": {
     "slide_type": "slide"
    }
   },
   "source": [
    "### A Simple Graph\n",
    "\n",
    "The simplest graph has just a single node with some named values called Properties. \n",
    "\n",
    "Start by drawing a circle for the node. Add a name of the corresponding person, her job and her birthday.\n",
    "\n",
    "  * **Nodes** are the name for data records in a graph\n",
    "  * Data is stored as **Properties**\n",
    "  * **Properties** are simple key/value pairs\n",
    "  \n",
    "  \n",
    "![](./images/single_node.gv.svg)"
   ]
  },
  {
   "cell_type": "markdown",
   "metadata": {
    "button": false,
    "new_sheet": false,
    "run_control": {
     "read_only": false
    },
    "slideshow": {
     "slide_type": "slide"
    }
   },
   "source": [
    "###  Labels\n",
    "\n",
    "Labels associate a set of nodes. Think of them as the type of your nodes.\n",
    "\n",
    "Nodes can be grouped together by applying a Label to each member. In our social graph, we will label each node that represents a `Person`.\n",
    "\n",
    "Apply the label `Person` to the node we created for *Odessa*\n",
    "\n",
    "  * Color `Person` nodes green\n",
    "  * A node can have zero or more labels\n",
    "  * Labels do not have any properties"
   ]
  },
  {
   "cell_type": "markdown",
   "metadata": {
    "button": false,
    "new_sheet": false,
    "run_control": {
     "read_only": false
    },
    "slideshow": {
     "slide_type": "slide"
    }
   },
   "source": [
    "### More Nodes\n",
    "\n",
    "Schema-free, nodes can have a mix of common and unique properties\n",
    "\n",
    "Like any database, storing data in Neo4j can be as simple as adding more records. We will add a few more nodes:\n",
    "\n",
    "  * Emil has a klout score of 99 (https://en.wikipedia.org/wiki/Klout)\n",
    "  * Johan, from Sweden, who is learning to surf\n",
    "  * Ian, from England, who is an author\n",
    "  * Rik, from Belgium, has a cat named Orval\n",
    "  * Allison, from California, who surfs\n",
    "  * Similar nodes can have different properties\n",
    "  * Properties can be strings, numbers, or booleans\n",
    "\n",
    "Neo4j can store billions of nodes."
   ]
  },
  {
   "cell_type": "markdown",
   "metadata": {
    "button": false,
    "new_sheet": false,
    "run_control": {
     "read_only": false
    },
    "slideshow": {
     "slide_type": "slide"
    }
   },
   "source": [
    "### Relationships\n",
    "\n",
    "Relationships connect nodes in the graph. The real power of Neo4j is in connected data. To associate any two nodes, add a Relationship which describes how the records are related.\n",
    "\n",
    "In our social graph, we simply say who `KNOWS` whom:\n",
    "\n",
    "  * Emil `KNOWS` Johan and Ian\n",
    "  * Johan `KNOWS` Ian and Rik\n",
    "  * Rik and Ian `KNOWS` Allison\n",
    "  * Relationships always have direction **OBS** That is, we model directed graphs in Neo4J.\n",
    "  * Relationships always have a type\n",
    "  * Relationships form patterns of data\n",
    "  \n",
    "![](images/simple_graph.gv.svg)"
   ]
  },
  {
   "cell_type": "markdown",
   "metadata": {
    "button": false,
    "new_sheet": false,
    "run_control": {
     "read_only": false
    },
    "slideshow": {
     "slide_type": "slide"
    }
   },
   "source": [
    "### Relationship properties\n",
    "\n",
    "Store information shared by two nodes.\n",
    "\n",
    "In a property graph, relationships are data records that can also contain properties. Looking more closely at Emil's relationships, note that:\n",
    "\n",
    "  * Emil has known Johan since 2001\n",
    "  * Emil rates Ian 5 (out of 5)\n",
    "  * Everyone else can have similar relationship properties\n",
    "\n",
    "\n",
    "![](images/simple_graph.gv.svg)"
   ]
  },
  {
   "cell_type": "markdown",
   "metadata": {
    "button": false,
    "new_sheet": false,
    "run_control": {
     "read_only": false
    },
    "slideshow": {
     "slide_type": "slide"
    }
   },
   "source": [
    "## Intro to Cypher\n",
    "\n",
    "*Cypher* is Neo4j's graph query language. It is purpose built for working with graph data.\n",
    "\n",
    "It makes it easy to work with graphs as it uses:\n",
    "  \n",
    "  * patterns to describe graph data\n",
    "  * familiar SQL-like clauses\n",
    "\n",
    "*Cypher* is a declarative language. That is, your patterns describe **what** to find, not **how** to find it.\n",
    "\n"
   ]
  },
  {
   "cell_type": "markdown",
   "metadata": {
    "slideshow": {
     "slide_type": "slide"
    }
   },
   "source": [
    "## The driver for python is:\n",
    "\n",
    "`pip3 install neo4j` - there is an older one around named `neo4j-driver`.\n"
   ]
  },
  {
   "cell_type": "code",
   "execution_count": 2,
   "metadata": {
    "slideshow": {
     "slide_type": "fragment"
    }
   },
   "outputs": [
    {
     "data": {
      "text/plain": [
       "'done'"
      ]
     },
     "execution_count": 2,
     "metadata": {},
     "output_type": "execute_result"
    }
   ],
   "source": [
    "import sys\n",
    "from neo4j import GraphDatabase\n",
    "\n",
    "uri = \"bolt://localhost:7687\"\n",
    "auth=(\"neo4j\", \"fancy!99Doorknob\")\n",
    "driver = GraphDatabase.driver(uri, auth=auth)\n",
    "\n",
    "def neo(command):\n",
    "    try:\n",
    "        with driver.session() as session:\n",
    "            result = session.run(command)\n",
    "        return result # result is a resultset/cursor for neo4j\n",
    "    except Exception as ex:\n",
    "        print(str(ex), file=sys.stderr)\n",
    "        \n",
    "def neov(command):\n",
    "    try:\n",
    "        return neo(command).values()\n",
    "    except Exception as ex:\n",
    "        return 'Shit happened'\n",
    "\"done\""
   ]
  },
  {
   "cell_type": "markdown",
   "metadata": {
    "button": false,
    "new_sheet": false,
    "run_control": {
     "read_only": false
    },
    "slideshow": {
     "slide_type": "slide"
    }
   },
   "source": [
    "### Creating Nodes\n",
    "\n",
    "Let's use Cypher to generate a small social graph."
   ]
  },
  {
   "cell_type": "code",
   "execution_count": 3,
   "metadata": {
    "button": false,
    "new_sheet": false,
    "run_control": {
     "read_only": false
    },
    "slideshow": {
     "slide_type": "fragment"
    }
   },
   "outputs": [
    {
     "data": {
      "text/plain": [
       "[]"
      ]
     },
     "execution_count": 3,
     "metadata": {},
     "output_type": "execute_result"
    }
   ],
   "source": [
    "neov('''\n",
    "CREATE (a:Person { name: \"Emil\", from: \"Sweden\", klout: 99 })\n",
    "''')"
   ]
  },
  {
   "cell_type": "markdown",
   "metadata": {
    "button": false,
    "new_sheet": false,
    "run_control": {
     "read_only": false
    },
    "slideshow": {
     "slide_type": "fragment"
    }
   },
   "source": [
    "That is it. The `CREATE` clause cossesponds to you drawing a circle on the whiteboard. You use it to create data, where:\n",
    "\n",
    "  * `()` parenthesis indicate a node\n",
    "  * `a:Person` a variable `a` and label `Person` for the new node\n",
    "  * `{}` brackets add properties to the node"
   ]
  },
  {
   "cell_type": "markdown",
   "metadata": {
    "button": false,
    "new_sheet": false,
    "run_control": {
     "read_only": false
    },
    "slideshow": {
     "slide_type": "slide"
    }
   },
   "source": [
    "## Finding nodes\n",
    "\n",
    "To find the node representing Emil:"
   ]
  },
  {
   "cell_type": "code",
   "execution_count": 3,
   "metadata": {
    "button": false,
    "new_sheet": false,
    "run_control": {
     "read_only": false
    },
    "slideshow": {
     "slide_type": "fragment"
    }
   },
   "outputs": [
    {
     "data": {
      "text/plain": [
       "[[<Node id=0 labels={'Person'} properties={'name': 'Emil', 'from': 'Sweden', 'klout': 99}>]]"
      ]
     },
     "execution_count": 3,
     "metadata": {},
     "output_type": "execute_result"
    }
   ],
   "source": [
    "neov('''\n",
    "MATCH (a:Person) \n",
    "WHERE a.name = \"Emil\" \n",
    "RETURN a\n",
    "''')"
   ]
  },
  {
   "cell_type": "markdown",
   "metadata": {
    "button": false,
    "new_sheet": false,
    "run_control": {
     "read_only": false
    },
    "slideshow": {
     "slide_type": "slide"
    }
   },
   "source": [
    "The `MATCH` clause specifies a pattern of nodes and relationships.\n",
    "\n",
    "  * `(a:Person)` a single node pattern with label 'Person' which will assign matches to the variable 'a'\n",
    "  * `WHERE` clause to constrain the results\n",
    "  * `a.name = \"Emil\"` compares name property to the value `\"Emil\"`\n",
    "  * `RETURN` clause used to request particular results"
   ]
  },
  {
   "cell_type": "markdown",
   "metadata": {
    "button": false,
    "new_sheet": false,
    "run_control": {
     "read_only": false
    },
    "slideshow": {
     "slide_type": "slide"
    }
   },
   "source": [
    "To find all nodes in your database you would relax your query and just search for example for all nodes:"
   ]
  },
  {
   "cell_type": "code",
   "execution_count": null,
   "metadata": {
    "button": false,
    "new_sheet": false,
    "run_control": {
     "read_only": false
    },
    "slideshow": {
     "slide_type": "fragment"
    }
   },
   "outputs": [],
   "source": [
    "neov('''\n",
    "MATCH (a)\n",
    "RETURN a;\n",
    "''')"
   ]
  },
  {
   "cell_type": "markdown",
   "metadata": {
    "button": false,
    "new_sheet": false,
    "run_control": {
     "read_only": false
    },
    "slideshow": {
     "slide_type": "subslide"
    }
   },
   "source": [
    "### Counting Nodes"
   ]
  },
  {
   "cell_type": "code",
   "execution_count": null,
   "metadata": {
    "button": false,
    "new_sheet": false,
    "run_control": {
     "read_only": false
    },
    "slideshow": {
     "slide_type": "fragment"
    }
   },
   "outputs": [],
   "source": [
    "neov('''\n",
    "MATCH (a) \n",
    "RETURN count(*);\n",
    "''')"
   ]
  },
  {
   "cell_type": "markdown",
   "metadata": {
    "button": false,
    "new_sheet": false,
    "run_control": {
     "read_only": false
    },
    "slideshow": {
     "slide_type": "slide"
    }
   },
   "source": [
    "### Create More Nodes and Relationships"
   ]
  },
  {
   "cell_type": "code",
   "execution_count": null,
   "metadata": {
    "button": false,
    "new_sheet": false,
    "run_control": {
     "read_only": false
    },
    "slideshow": {
     "slide_type": "fragment"
    }
   },
   "outputs": [],
   "source": [
    "neov('''\n",
    "CREATE (js:Person { name: \"Johan\", from: \"Sweden\", learn: \"surfing\" })\n",
    "''')"
   ]
  },
  {
   "cell_type": "code",
   "execution_count": 5,
   "metadata": {
    "button": false,
    "new_sheet": false,
    "run_control": {
     "read_only": false
    },
    "slideshow": {
     "slide_type": "fragment"
    }
   },
   "outputs": [
    {
     "data": {
      "text/plain": [
       "[]"
      ]
     },
     "execution_count": 5,
     "metadata": {},
     "output_type": "execute_result"
    }
   ],
   "source": [
    "neov('''\n",
    "MATCH (z:Person)\n",
    "RETURN id(z);\n",
    "''')"
   ]
  },
  {
   "cell_type": "markdown",
   "metadata": {
    "button": false,
    "new_sheet": false,
    "run_control": {
     "read_only": false
    },
    "slideshow": {
     "slide_type": "slide"
    }
   },
   "source": [
    "After creating two nodes -one for Emil and one for Johan respectively- manually, we have two disconnected nodes in the dataset. You could add a `KNOWS` relationship between them by matching the nodes and creating a new relationship."
   ]
  },
  {
   "cell_type": "code",
   "execution_count": null,
   "metadata": {
    "button": false,
    "new_sheet": false,
    "run_control": {
     "read_only": false
    },
    "scrolled": true,
    "slideshow": {
     "slide_type": "fragment"
    }
   },
   "outputs": [],
   "source": [
    "neov('''\n",
    "MATCH (a),(b)\n",
    "WHERE a.name = \"Emil\" AND b.name = \"Johan\"\n",
    "CREATE (a)-[:KNOWS {since: 2001}]->(b)\n",
    "''')"
   ]
  },
  {
   "cell_type": "markdown",
   "metadata": {
    "button": false,
    "new_sheet": false,
    "run_control": {
     "read_only": false
    },
    "slideshow": {
     "slide_type": "slide"
    }
   },
   "source": [
    "However, the `CREATE` clause can create many nodes and relationships at once too."
   ]
  },
  {
   "cell_type": "code",
   "execution_count": null,
   "metadata": {
    "button": false,
    "new_sheet": false,
    "run_control": {
     "read_only": false
    },
    "slideshow": {
     "slide_type": "fragment"
    }
   },
   "outputs": [],
   "source": [
    "neov('''\n",
    "MATCH (a:Person),(b:Person) \n",
    "WHERE a.name = \"Emil\" AND b.name = \"Johan\"\n",
    "CREATE (ir:Person { name: \"Ian\", from: \"England\", title: \"author\" }),\n",
    "(rvb:Person { name: \"Rik\", from: \"Belgium\", pet: \"Orval\" }),\n",
    "(ally:Person { name: \"Allison\", from: \"California\", hobby: \"surfing\" }),\n",
    "(a)-[:KNOWS {rating: 5}]->(ir),(b)-[:KNOWS]->(ir),(b)-[:KNOWS]->(rvb),\n",
    "(ir)-[:KNOWS]->(b),(ir)-[:KNOWS]->(ally),(rvb)-[:KNOWS]->(ally)\n",
    "''')"
   ]
  },
  {
   "cell_type": "code",
   "execution_count": null,
   "metadata": {
    "button": false,
    "new_sheet": false,
    "run_control": {
     "read_only": false
    },
    "slideshow": {
     "slide_type": "slide"
    }
   },
   "outputs": [],
   "source": [
    "neov('''\n",
    "MATCH (a)\n",
    "RETURN a;\n",
    "''')"
   ]
  },
  {
   "cell_type": "markdown",
   "metadata": {
    "button": false,
    "new_sheet": false,
    "run_control": {
     "read_only": false
    },
    "slideshow": {
     "slide_type": "slide"
    }
   },
   "source": [
    "### How to see the entire graph?"
   ]
  },
  {
   "cell_type": "code",
   "execution_count": null,
   "metadata": {
    "button": false,
    "new_sheet": false,
    "run_control": {
     "read_only": false
    },
    "slideshow": {
     "slide_type": "fragment"
    }
   },
   "outputs": [],
   "source": [
    "neov('''\n",
    "MATCH (a:Person)-[r:KNOWS]-(b:Person)\n",
    "RETURN a, r, b\n",
    "limit 2\n",
    "''')"
   ]
  },
  {
   "cell_type": "markdown",
   "metadata": {
    "button": false,
    "new_sheet": false,
    "run_control": {
     "read_only": false
    },
    "slideshow": {
     "slide_type": "slide"
    }
   },
   "source": [
    "### Pattern Matching\n",
    "\n",
    "Patterns -think of them as ASCII art representation of patterns in the graph- describe *what* to find in the graph. For instance, a pattern can be used to find Emil's friends:"
   ]
  },
  {
   "cell_type": "code",
   "execution_count": null,
   "metadata": {
    "button": false,
    "new_sheet": false,
    "run_control": {
     "read_only": false
    },
    "slideshow": {
     "slide_type": "fragment"
    }
   },
   "outputs": [],
   "source": [
    "neov('''\n",
    "MATCH (a:Person)-[r:KNOWS]-(friends)\n",
    "WHERE a.name = \"Emil\" \n",
    "RETURN a, r, friends\n",
    "limit 2\n",
    "''')"
   ]
  },
  {
   "cell_type": "markdown",
   "metadata": {
    "button": false,
    "new_sheet": false,
    "run_control": {
     "read_only": false
    },
    "slideshow": {
     "slide_type": "slide"
    }
   },
   "source": [
    "  * `MATCH` clause to describe the pattern from known Nodes to found Nodes\n",
    "  * `(a)` starts the pattern with a Person (qualified by WHERE)\n",
    "  * `-[:KNOWS]-` matches `KNOWS` relationships (in either direction)\n",
    "  * (friends)will be bound to Emil's friends"
   ]
  },
  {
   "cell_type": "markdown",
   "metadata": {
    "button": false,
    "new_sheet": false,
    "run_control": {
     "read_only": false
    },
    "slideshow": {
     "slide_type": "slide"
    }
   },
   "source": [
    "#### How many friends does Emil have?"
   ]
  },
  {
   "cell_type": "code",
   "execution_count": null,
   "metadata": {
    "button": false,
    "new_sheet": false,
    "run_control": {
     "read_only": false
    },
    "scrolled": true,
    "slideshow": {
     "slide_type": "fragment"
    }
   },
   "outputs": [],
   "source": [
    "neov('''\n",
    "MATCH (a:Person)-[r:KNOWS]-(friends)\n",
    "WHERE a.name = \"Emil\" \n",
    "RETURN a.name,count(friends)\n",
    "''')"
   ]
  },
  {
   "cell_type": "markdown",
   "metadata": {
    "button": false,
    "new_sheet": false,
    "run_control": {
     "read_only": false
    },
    "slideshow": {
     "slide_type": "slide"
    }
   },
   "source": [
    "### Recommendations\n",
    "\n",
    "Using patterns and pattern matching we can quickly generate recommendations. For example, Johan is learning to surf, so he may want to find a new friend who already does:\n",
    "\n",
    "*Notice:* Recommendation is not a neo4j concept - but the usual *recommendation* as you know from web-shops. \"Customers who liked X also like Y\"."
   ]
  },
  {
   "cell_type": "code",
   "execution_count": null,
   "metadata": {
    "button": false,
    "new_sheet": false,
    "run_control": {
     "read_only": false
    },
    "slideshow": {
     "slide_type": "fragment"
    }
   },
   "outputs": [],
   "source": [
    "neov('''\n",
    "MATCH (a:Person)-[:KNOWS]-()-[:KNOWS]-(surfer)\n",
    "WHERE a.name = \"Johan\" AND surfer.hobby = \"surfing\"\n",
    "RETURN DISTINCT surfer\n",
    "''')"
   ]
  },
  {
   "cell_type": "markdown",
   "metadata": {
    "button": false,
    "new_sheet": false,
    "run_control": {
     "read_only": false
    },
    "slideshow": {
     "slide_type": "slide"
    }
   },
   "source": [
    "  * `()` empty parenthesis to ignore these nodes\n",
    "  * `DISTINCT` because more than one path will match the pattern\n",
    "  * `surfer` will contain Allison, a friend of a friend who surfs"
   ]
  },
  {
   "cell_type": "markdown",
   "metadata": {
    "button": false,
    "new_sheet": false,
    "run_control": {
     "read_only": false
    },
    "slideshow": {
     "slide_type": "slide"
    }
   },
   "source": [
    "### Deleting Nodes and Relations\n",
    "\n",
    "\n",
    "You can delete nodes with the help of the `DELETE` directive.\n",
    "\n",
    "```cypher\n",
    "MATCH (a)\n",
    "DELETE a\n",
    "```\n",
    "\n",
    "However, you cannot delete nodes, which are still connected with relations. That will result in an error message similar to the following:\n",
    "\n",
    "```\n",
    "Cannot delete node<512>, because it still has relationships. To delete this node, you must first delete its relationships.\n",
    "```\n",
    "\n",
    "Consequently, either delete the relations first or do both steps in one query\n",
    "\n",
    "```cypher\n",
    "MATCH (a)-[r]-(b)\n",
    "DELETE a,b,r\n",
    "```"
   ]
  },
  {
   "cell_type": "code",
   "execution_count": 4,
   "metadata": {
    "slideshow": {
     "slide_type": "fragment"
    }
   },
   "outputs": [
    {
     "data": {
      "text/plain": [
       "[]"
      ]
     },
     "execution_count": 4,
     "metadata": {},
     "output_type": "execute_result"
    }
   ],
   "source": [
    "# delete all nodes with label Person\n",
    "neov('''\n",
    "MATCH (g:Person)\n",
    "DETACH DELETE g\n",
    "''')"
   ]
  },
  {
   "cell_type": "markdown",
   "metadata": {
    "button": false,
    "new_sheet": false,
    "run_control": {
     "read_only": false
    },
    "slideshow": {
     "slide_type": "slide"
    }
   },
   "source": [
    "# Your turn!\n",
    "\n",
    "Connect to the Neo4J web client and **read** and execute the movie graph tutorial\n",
    "\n",
    "```\n",
    ":play movie graph\n",
    "```\n",
    "\n",
    "Subsequently, create queries, which answer the following questions:\n",
    "\n",
    "  1. How many movies from the 90ies are in our database and what are their names?\n",
    "  * How many movies between 2000 and 2010 are in our database and what are their names?\n",
    "  * Who produced \"V for Vendetta\"?\n",
    "  * Which movies were directed by \"Lana Wachowski\"?\n",
    "  * In which movies acted \"Carrie-Anne Moss\"?\n",
    "  * Who were coactors of \"Carrie-Anne Moss\"?\n",
    "  * In which way are people related to the movie \"V for Vendetta\"?\n",
    "  * What is the shortest path between \"Carrie-Anne Moss\" and \"Natalie Portman\"?\n",
    "  * With which other persons did \"Natalie Portman\" already work together? \n",
    "  * Create a recommendation to find actors with which \"Natalie Portman\" never worked together but her former colleagues did."
   ]
  },
  {
   "cell_type": "code",
   "execution_count": null,
   "metadata": {
    "button": false,
    "new_sheet": false,
    "run_control": {
     "read_only": false
    },
    "slideshow": {
     "slide_type": "subslide"
    }
   },
   "outputs": [],
   "source": [
    "neov('''\n",
    "CALL db.schema()\n",
    "''')"
   ]
  },
  {
   "cell_type": "markdown",
   "metadata": {
    "button": false,
    "new_sheet": false,
    "run_control": {
     "read_only": false
    },
    "slideshow": {
     "slide_type": "skip"
    }
   },
   "source": [
    "##### Student Solutions\n",
    "\n",
    "1. How many movies from the 90ies are in our database and what are their names?\n",
    "\n",
    "```cypher\n",
    "MATCH (nineties:Movie) WHERE nineties.released >= 1990 AND nineties.released < 2000 RETURN nineties.title\n",
    "```\n",
    "\n",
    "```cypher\n",
    "MATCH (a:Movie) WHERE a.released >= 1990 AND a.released <= 1999 return collect(a.title), count(a)\n",
    "```\n",
    "\n",
    "```cypher\n",
    "MATCH (nineties:Movie) WHERE nineties.released >= 1990 AND nineties.released < 2000 RETURN count(nineties);\n",
    "```\n",
    "\n",
    "```cypher\n",
    "match (a:Movie) where a.released > 1989 and a.released < 2000 return a.title;\n",
    "```\n",
    "\n",
    "\n",
    "2. How many movies between 2000 and 2010 are in our database and what are their names?\n",
    "\n",
    "```cypher\n",
    "MATCH (nineties:Movie) WHERE nineties.released > 2000 AND nineties.released < 2010 RETURN nineties.title\n",
    "```\n",
    "\n",
    "```cypher\n",
    "MATCH (a:Movie) WHERE a.released >= 2000 AND a.released <= 2010 return collect(a.title), count(a)\n",
    "```\n",
    "\n",
    "```cypher\n",
    "match (a:Movie) where a.released > 1999 and a.released < 2011 return a,count(a)\n",
    "```\n",
    "\n",
    "3. Who produced \"V for Vendetta\"?\n",
    "\n",
    "```cypher\n",
    "MATCH (v {title: \"V for Vendetta\"})<-[:PRODUCED]-(producers) RETURN producers.name\n",
    "```\n",
    "\n",
    "```cypher\n",
    "MATCH (title {title: \"V for Vendetta\"})<-[:PRODUCED]-(producers) RETURN producers.name\n",
    "```\n",
    "\n",
    "```cypher\n",
    "MATCH (a:Person)-[:PRODUCED]->(b:Movie) WHERE b.title =\"V for Vendetta\" RETURN a.name\n",
    "```\n",
    "\n",
    "```cypher\n",
    "MATCH (m:Movie)-[:PRODUCED]-(producer) WHERE m.title = \"V for Vendetta\" RETURN producer\n",
    "```\n",
    "\n",
    "```cypher    \n",
    "MATCH (director:Person)-[:DIRECTED]->(movie:Movie)WHERE movie.title = \"V for Vendetta\" RETURN director;\n",
    "```\n",
    "\n",
    "4. Which movies were directed by \"Lana Wachowski\"?\n",
    "\n",
    "```cypher\n",
    "MATCH (p {name:\"Lana Wachowski\"})-[:DIRECTED]->(movie) RETURN movie.title\n",
    "```\n",
    "\n",
    "```cypher\n",
    "MATCH (director:Person {name: \"Lana Wachowski\"})-[:DIRECTED]->(movies) RETURN movies.title\n",
    "```\n",
    "\n",
    "```cypher\n",
    "MATCH (a:Person)-[:DIRECTED]->(b:Movie) WHERE a.name =\"Lana Wachowski\" RETURN b.title\n",
    "```\n",
    "\n",
    "```cypher\n",
    "MATCH (director:Person)-[r:DIRECTED]->(movie:Movie) WHERE director.name = \"Lana Wachowski\" RETURN movie.title;\n",
    "```\n",
    "\n",
    "```cypher\n",
    "MATCH (x:Person)-[:DIRECTED]->(m:Movie) WHERE x.name = \"Lana Wachowski\" RETURN m\n",
    "```\n",
    "\n",
    "5. In which movies acted \"Carrie-Anne Moss\"?\n",
    "\n",
    "```cypher\n",
    "MATCH (p {name:\"Carrie-Anne Moss\"})-[:ACTED_IN]->(movie) RETURN movie.title\n",
    "```\n",
    "\n",
    "```cypher\n",
    "MATCH (a:Person)-[:ACTED_IN]->(b:Movie) WHERE a.name =\"Carrie-Anne Moss\" return b.title\n",
    "```\n",
    "\n",
    "```cypher\n",
    "MATCH (carrie:Person {name: \"Carrie-Anne Moss\"})-[:ACTED_IN]->(movies) RETURN movies.title\n",
    "```\n",
    "\n",
    "```cypher\n",
    "MATCH (actor:Person)-[r:ACTED_IN]->(movie:Movie) WHERE actor.name = \"Carrie-Anne Moss\" RETURN movie.title;\n",
    "```\n",
    "\n",
    "```cypher\n",
    "MATCH (x:Person)-[:ACTED_IN]->(m:Movie) WHERE x.name = \"Carrie-Anne Moss\" RETURN m\n",
    "```\n",
    "\n",
    "6. Who were coactors of \"Carrie-Anne Moss\"?\n",
    "\n",
    "```cypher\n",
    "MATCH (p {name:\"Carrie-Anne Moss\"})-[:ACTED_IN]->()<-[:ACTED_IN]-(coact) RETURN coact.name\n",
    "```\n",
    "\n",
    "```cypher\n",
    "MATCH (a:Person)-[:ACTED_IN]-(b:Movie)<-[:ACTED_IN]-(c:Person) WHERE c.name = \"Carrie-Anne Moss\" return a.name\n",
    "```\n",
    "\n",
    "```cypher\n",
    "MATCH (carrie:Person {name:\"Carrie-Anne Moss\"})-[:ACTED_IN]->(movies)<-[:ACTED_IN]-(coActors) RETURN DISTINCT coActors.name\n",
    "```\n",
    "\n",
    "```cypher\n",
    "MATCH (x:Person)-[:ACTED_IN]->(m:Movie)<-[:ACTED_IN]-(co:Person) WHERE x.name = \"Carrie-Anne Moss\" RETURN co\n",
    "```\n",
    "\n",
    "7. In which way are people related to the movie \"V for Vendetta\"?\n",
    "\n",
    "```cypher\n",
    "MATCH (people:Person)-[relatedTo]-(v:Movie {title: \"V for Vendetta\"}) RETURN v, people, Type(relatedTo), relatedTo\n",
    "```\n",
    "\n",
    "```cypher\n",
    "MATCH (a:Person)-[r]->(b:Movie) WHERE b.title =\"V for Vendetta\" return a.name,type(r)\n",
    "```\n",
    "\n",
    "```cypher\n",
    "MATCH (people:Person)-[relatedTo]-(:Movie {title: \"V for Vendetta\"}) RETURN DISTINCT people.name, Type(relatedTo)\n",
    "```\n",
    "\n",
    "```cypher\n",
    "MATCH (x:Movie)-[r]-() WHERE x.title =\"V for Vendetta\" RETURN DISTINCT Type(r)\n",
    "```\n",
    "\n",
    "\n",
    "8. What is the shortest path between \"Carrie-Anne Moss\" and \"Natalie Portman\"?\n",
    "\n",
    "```cypher\n",
    "MATCH p=shortestPath(\n",
    "  (carrie:Person {name:\"Carrie-Anne Moss\"})-[*]-(nat:Person {name:\"Natalie Portman\"})\n",
    ")\n",
    "RETURN p\n",
    "```\n",
    "\n",
    "```cypher\n",
    "MATCH (Carrie:Person { name: 'Carrie-Anne Moss' }),(Natalie:Person { name: \"Natalie Portman\" }), p = shortestPath((Carrie)-[*..15]-(Natalie))\n",
    "RETURN p\n",
    "```\n",
    "\n",
    "```cypher\n",
    "MATCH p=shortestPath(\n",
    "  (carrie:Person {name:\"Carrie-Anne Moss\"})-[*]-(nat:Person {name:\"Natalie Portman\"})\n",
    ")\n",
    "RETURN p\n",
    "```\n",
    "\n",
    "```cypher\n",
    "MATCH p=shortestPath((C:Person {name:\"Carrie-Anne Moss\"})-[*]-(D:Person{name:\"Natalie Portman\"})) RETURN p\n",
    "```\n",
    "\n",
    "```cypher\n",
    "MATCH p = shortestpath((natalie:Person {name: \"Natalie Portman\"})-[r *1..5]-(carrie:Person {name: \"Carrie-Anne Moss\"})) RETURN collect(p), length(p), natalie, r, carrie;\n",
    "```\n",
    "\n",
    "9. With which other persons did \"Natalie Portman\" already work together?\n",
    "\n",
    "```cypher\n",
    "MATCH (p {name:\"Natalie Portman\"})-[]->()<-[]-(coact) RETURN coact.name\n",
    "```\n",
    "\n",
    "```cypher\n",
    "MATCH (p1 {name:\"Natalie Portman\"})-[]->()<-[]-(p2) RETURN p2\n",
    "```\n",
    "\n",
    "```cypher\n",
    "MATCH (actor:Person)-[:ACTED_IN]->(m:Movie)-[r]-(coactor:Person) WHERE actor.name = \"Natalie Portman\" RETURN DISTINCT coactor;\n",
    "```\n",
    "\n",
    "```cypher\n",
    "MATCH (x:Person {name:\"Natalie Portman\"})-[]->(:Movie)<-[]-(coWorkers:Person) RETURN coWorkers\n",
    "```\n",
    "\n",
    "\n",
    "10. Create a recommendation to find actors with which \"Natalie Portman\" never worked together but her former colleagues did.\n",
    "\n",
    "```cypher\n",
    "MATCH (p1 {name: \"Natalie Portman\"})-[]->()<-[]-(p2)-[]->()<-[]-(p3) where not (p1)-[]->()<-[]-(p3) RETURN distinct p3.name\n",
    "MATCH (p1:Person {name: \"Natalie Portman\"})-[]->(:Movie)<-[]-(p2:Person)-[]->(:Movie)<-[]-(p3:Person) where not (p1)-[]->(:Movie)<-[]-(p3) RETURN distinct p3.name\n",
    "```\n",
    "\n",
    "```cypher\n",
    "MATCH (nat:Person {name:\"Natalie Portman\"})-[:ACTED_IN]->(m)<-[:ACTED_IN]-(coActors),\n",
    "      (coActors)-[:ACTED_IN]->(m2)<-[:ACTED_IN]-(cocoActors)\n",
    "WHERE NOT (nat)-[:ACTED_IN]->()<-[:ACTED_IN]-(cocoActors) AND nat <> cocoActors\n",
    "RETURN cocoActors.name AS Recommended\n",
    "```\n",
    "\n",
    "```cypher\n",
    "MATCH (a:Person)-[:ACTED_IN]->(b:Movie)-[:ACTED_IN]-(coa:Person)-[:ACTED_IN]->(coab:Movie)-[:ACTED_IN]-(ccoa:Person) WHERE         a.name = \"Natalie Portman\" RETURN DISTINCT ccoa\n",
    "```\n",
    "\n",
    "```cypher    \n",
    "MATCH (p:Person {name:\"Natalie Portman\"})-[]->(:Movie)<-[]-(co:Person), (co)-[]->(:Movie)<-[]-(coco)\n",
    "WHERE NOT (p)-[]->(:Movie)<-[]-(coco) AND p <> coco\n",
    "RETURN coco.name\n",
    "```"
   ]
  },
  {
   "cell_type": "markdown",
   "metadata": {
    "button": false,
    "new_sheet": false,
    "run_control": {
     "read_only": false
    },
    "slideshow": {
     "slide_type": "slide"
    }
   },
   "source": [
    "# Spatial Queries\n",
    "\n",
    "Neo4j with version greater 3.0 supports functions to specify points in a 2D coordinate system and to calculate the geodesic distance between two points directly. https://neo4j.com/docs/developer-manual/current/cypher/functions/spatial/\n"
   ]
  },
  {
   "cell_type": "markdown",
   "metadata": {
    "button": false,
    "collapsed": true,
    "new_sheet": false,
    "run_control": {
     "read_only": false
    },
    "slideshow": {
     "slide_type": "slide"
    }
   },
   "source": [
    "Let's get some locations for airports..."
   ]
  },
  {
   "cell_type": "code",
   "execution_count": null,
   "metadata": {
    "slideshow": {
     "slide_type": "fragment"
    }
   },
   "outputs": [],
   "source": [
    "neov(\"\"\"\n",
    "LOAD CSV WITH HEADERS FROM \"https://raw.githubusercontent.com/neo4j-contrib/training/master/modeling/data/airports.csv\" AS row\n",
    "RETURN row\n",
    "LIMIT 1\n",
    "\"\"\")"
   ]
  },
  {
   "cell_type": "markdown",
   "metadata": {
    "slideshow": {
     "slide_type": "slide"
    }
   },
   "source": [
    "## Notice:\n",
    "The above *did not* add any data to the database\n",
    "\n",
    "### The next one do add to the database"
   ]
  },
  {
   "cell_type": "markdown",
   "metadata": {
    "slideshow": {
     "slide_type": "fragment"
    }
   },
   "source": [
    "### But lattitude and longitude are strings\n"
   ]
  },
  {
   "cell_type": "code",
   "execution_count": null,
   "metadata": {
    "slideshow": {
     "slide_type": "fragment"
    }
   },
   "outputs": [],
   "source": [
    "neov('''\n",
    "LOAD CSV WITH HEADERS FROM \"https://raw.githubusercontent.com/neo4j-contrib/training/master/modeling/data/airports.csv\" AS row\n",
    "WITH row\n",
    "WHERE NOT row.iata_code IS NULL\n",
    "MERGE (a:Airport {iata:row.iata_code,\n",
    "    name: row.name,\n",
    "    latt:toFloat(row.latitude_deg), \n",
    "    long:toFloat(row.longitude_deg)})\n",
    "''')"
   ]
  },
  {
   "cell_type": "code",
   "execution_count": null,
   "metadata": {
    "slideshow": {
     "slide_type": "slide"
    }
   },
   "outputs": [],
   "source": [
    "neov('''\n",
    "match (a:Airport)\n",
    "return a\n",
    "limit 3\n",
    "''')"
   ]
  },
  {
   "cell_type": "markdown",
   "metadata": {
    "button": false,
    "new_sheet": false,
    "run_control": {
     "read_only": false
    },
    "slideshow": {
     "slide_type": "slide"
    }
   },
   "source": [
    "# Spatial distance\n",
    "To compute the distance between two points, we have to generate `Point` objects out of the latitude and longitude properties, on which we can call the `distance` function."
   ]
  },
  {
   "cell_type": "code",
   "execution_count": null,
   "metadata": {
    "button": false,
    "new_sheet": false,
    "run_control": {
     "read_only": false
    },
    "slideshow": {
     "slide_type": "fragment"
    }
   },
   "outputs": [],
   "source": [
    "# copenhagen latt:55.6867243, long:12.5700724\n",
    "neov(\"\"\" \n",
    "MATCH (a:Airport)\n",
    "WITH point({ longitude: a.long, latitude: a.latt }) AS aPoint,\n",
    "    point({ longitude: 12.5700724, latitude: 55.6867243 }) as cph, a\n",
    "WITH round(distance(aPoint, cph)) / 1000 as distance, a\n",
    "ORDER BY distance DESC\n",
    "RETURN DISTINCT a.iata, a.name, distance\n",
    "limit 5\n",
    "\"\"\")"
   ]
  },
  {
   "cell_type": "code",
   "execution_count": null,
   "metadata": {
    "slideshow": {
     "slide_type": "skip"
    }
   },
   "outputs": [],
   "source": [
    "neov('''\n",
    "unwind filter(m in split(\"her er @joe and @billy\",\" \") where m starts with \"@\") as x\n",
    "return right(x,size(x)-1)\n",
    "''')"
   ]
  },
  {
   "cell_type": "code",
   "execution_count": null,
   "metadata": {
    "slideshow": {
     "slide_type": "skip"
    }
   },
   "outputs": [],
   "source": [
    "neov('''\n",
    "CREATE (js:Person { name: \"Johan\", from: \"Sweden\", learn: \"surfing\", lucky:[1,2,3,4,5]})\n",
    "''')"
   ]
  },
  {
   "cell_type": "code",
   "execution_count": null,
   "metadata": {
    "slideshow": {
     "slide_type": "skip"
    }
   },
   "outputs": [],
   "source": [
    "neov('''\n",
    "match (a:Person)\n",
    "return a.lucky\n",
    "''')"
   ]
  }
 ],
 "metadata": {
  "celltoolbar": "Slideshow",
  "kernelspec": {
   "display_name": "Python 3",
   "language": "python",
   "name": "python3"
  },
  "language_info": {
   "codemirror_mode": {
    "name": "ipython",
    "version": 3
   },
   "file_extension": ".py",
   "mimetype": "text/x-python",
   "name": "python",
   "nbconvert_exporter": "python",
   "pygments_lexer": "ipython3",
   "version": "3.7.3"
  }
 },
 "nbformat": 4,
 "nbformat_minor": 2
}
