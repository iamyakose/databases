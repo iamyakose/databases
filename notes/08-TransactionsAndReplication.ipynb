{
 "cells": [
  {
   "cell_type": "markdown",
   "metadata": {
    "slideshow": {
     "slide_type": "slide"
    }
   },
   "source": [
    "\n",
    "# Transactions and replication"
   ]
  },
  {
   "cell_type": "code",
   "execution_count": null,
   "metadata": {
    "button": false,
    "new_sheet": false,
    "run_control": {
     "read_only": false
    },
    "slideshow": {
     "slide_type": "skip"
    }
   },
   "outputs": [],
   "source": [
    "!docker container ls -a"
   ]
  },
  {
   "cell_type": "code",
   "execution_count": null,
   "metadata": {
    "button": false,
    "new_sheet": false,
    "run_control": {
     "read_only": false
    },
    "slideshow": {
     "slide_type": "skip"
    }
   },
   "outputs": [],
   "source": [
    "%%bash\n",
    "docker run \\\n",
    "--rm \\\n",
    "--name my_mysql \\\n",
    "-v $(pwd)/mysql_databasefiles:/var/lib/mysql \\\n",
    "-p 3306:3306 \\\n",
    "-e MYSQL_ROOT_PASSWORD=deterentysker!42snapsnap \\\n",
    "-d \\\n",
    "mysql\n",
    "echo \"MySQLRunning\""
   ]
  },
  {
   "cell_type": "code",
   "execution_count": null,
   "metadata": {
    "button": false,
    "new_sheet": false,
    "run_control": {
     "read_only": false
    },
    "slideshow": {
     "slide_type": "skip"
    }
   },
   "outputs": [],
   "source": [
    "import sys\n",
    "import mysql.connector\n",
    "import pandas as pd\n",
    "from IPython.display import display\n",
    "\n",
    "\n",
    "def rootconnect():\n",
    "    try:\n",
    "        pw = 'deterentysker!42snapsnap'\n",
    "        db = 'transactionDemo'\n",
    "        conn = mysql.connector.connect( host='localhost', database=db ,user='root', password=pw)\n",
    "        conn.autocommit = True\n",
    "        return conn;\n",
    "    except Exception as ex:\n",
    "        print(str(ex), file=sys.stderr)\n",
    "    \n",
    "\n",
    "conn = rootconnect()\n",
    "\n",
    "def sqlQuery(sqlString):\n",
    "    global conn\n",
    "    try:\n",
    "        if not conn.is_connected():\n",
    "            conn = rootconnect()\n",
    "            \n",
    "        df = pd.read_sql(sqlString, conn)\n",
    "        return df\n",
    "    except Exception as ex:\n",
    "        print(str(ex), file=sys.stderr)\n",
    "\n",
    "def query(sqlString):\n",
    "    display(sqlQuery(sqlString))\n",
    "\n",
    "def sqlDo(sqlString):\n",
    "    global conn\n",
    "    try:\n",
    "        if not conn.is_connected():\n",
    "            conn = rootconnect()\n",
    "        cursor = conn.cursor()\n",
    "        cursor.execute(sqlString)\n",
    "        res = cursor.fetchwarnings()\n",
    "        return res\n",
    "    except Exception as ex:\n",
    "        print(str(ex), file=sys.stderr)\n",
    "    finally:    \n",
    "        cursor.close()\n",
    "\n",
    "\"Done\"    "
   ]
  },
  {
   "cell_type": "code",
   "execution_count": null,
   "metadata": {
    "slideshow": {
     "slide_type": "slide"
    }
   },
   "outputs": [],
   "source": [
    "query(\"\"\"\n",
    "SELECT * FROM account;\n",
    "\"\"\")\n",
    "\n",
    "query(\"\"\"\n",
    "select sum(balance) as total \n",
    "from account\n",
    "\"\"\")"
   ]
  },
  {
   "cell_type": "markdown",
   "metadata": {
    "slideshow": {
     "slide_type": "slide"
    }
   },
   "source": [
    "In pure SQL a transaction to move 500 from account 3 to account 4 might look like:\n",
    "```mysql\n",
    "START TRANSACTION;\n",
    "\n",
    "UPDATE account\n",
    "\tset balance = balance + 500 where id = 4;\n",
    "    \n",
    "UPDATE account\n",
    "\tset balance = balance - 500 where id = 3;\n",
    "\n",
    "COMMIT;\n",
    "```"
   ]
  },
  {
   "cell_type": "markdown",
   "metadata": {
    "slideshow": {
     "slide_type": "slide"
    }
   },
   "source": [
    "# Your turn\n",
    "* are two different \"tabs\" in mysqlworkbench in the same or in different transactions?"
   ]
  },
  {
   "cell_type": "markdown",
   "metadata": {
    "slideshow": {
     "slide_type": "fragment"
    }
   },
   "source": [
    "* Connect two workbenches to the same database, \n",
    "* start a transaction, make some changes, and \n",
    "* verify that you cannot see the changes in the other workbench until after commit."
   ]
  },
  {
   "cell_type": "markdown",
   "metadata": {
    "slideshow": {
     "slide_type": "fragment"
    }
   },
   "source": [
    "* Is hiding the changes always the best way to do things?"
   ]
  },
  {
   "cell_type": "markdown",
   "metadata": {},
   "source": [
    "# ACID principle for transactions\n",
    "* Atomicity (either all of nothing of the transaction is done)\n",
    "* Consistency (all integrity constrainsts must be upheld after the transaction - e.g. foreign key constraints)\n",
    "* Isolation (see below/later)\n",
    "* Durability (committed transactions are permanent in the face of (power) failure)"
   ]
  },
  {
   "cell_type": "markdown",
   "metadata": {
    "slideshow": {
     "slide_type": "slide"
    }
   },
   "source": [
    "# Implementation of transactions in DB\n",
    "In short..."
   ]
  },
  {
   "cell_type": "markdown",
   "metadata": {
    "slideshow": {
     "slide_type": "fragment"
    }
   },
   "source": [
    "![](images/complex.jpg)\n",
    "### Done in many different complex amazing and awesome ways"
   ]
  },
  {
   "cell_type": "markdown",
   "metadata": {
    "slideshow": {
     "slide_type": "slide"
    }
   },
   "source": [
    "# Isolation inside a transaction\n",
    "The \"I\" in ACID is *isolation*. It means that from your point of view, you are the only one making changes in the database (in this transaction).\n",
    "\n",
    "Before we see how to obtain this, we need to see what can go wrong if we do not have isolation.\n",
    "\n",
    "Consider this very simple table:\n",
    "\n",
    "<img src=\"images/isolation0.png\" width=\"15%\">\n",
    "\n",
    "<sub><sub>next slides based on figures from \"https://en.wikipedia.org/wiki/Isolation_(database_systems)\"</sub></sub>"
   ]
  },
  {
   "cell_type": "markdown",
   "metadata": {
    "slideshow": {
     "slide_type": "slide"
    }
   },
   "source": [
    "# Problem 1: Dirty read\n",
    "![](images/isolation1.png)"
   ]
  },
  {
   "cell_type": "markdown",
   "metadata": {
    "slideshow": {
     "slide_type": "slide"
    }
   },
   "source": [
    "# Non-repeatable reads\n",
    "![](images/isolation2.png)"
   ]
  },
  {
   "cell_type": "markdown",
   "metadata": {
    "slideshow": {
     "slide_type": "fragment"
    }
   },
   "source": [
    "Dirty and non-repeatable both cause the classic account update error"
   ]
  },
  {
   "cell_type": "markdown",
   "metadata": {
    "slideshow": {
     "slide_type": "slide"
    }
   },
   "source": [
    "# Phantom reads\n",
    "![](images/isolation3.png)"
   ]
  },
  {
   "cell_type": "markdown",
   "metadata": {
    "slideshow": {
     "slide_type": "slide"
    }
   },
   "source": [
    "# Isolation levels: Serializability / Snapshot isolation\n",
    "\n",
    "* all reads made *in **a** transaction* will see a consistent snapshot of the database\n",
    "* the transaction will successfully commit only if\n",
    "    * no updates it has made conflict with any concurrent updates made since that snapshot.\n",
    "\n",
    "\n"
   ]
  },
  {
   "cell_type": "markdown",
   "metadata": {
    "slideshow": {
     "slide_type": "fragment"
    }
   },
   "source": [
    "<img src=\"images/saywhat.jpg\" width=\"20%\">"
   ]
  },
  {
   "cell_type": "markdown",
   "metadata": {
    "slideshow": {
     "slide_type": "slide"
    }
   },
   "source": [
    "# Definition of isolation\n",
    "Assume we have a snapshot $S_0$ of the database at some point in time $t_0$.\n",
    "\n",
    "The state of the database at some time $t_n$ later than $t_0$ is:\n",
    "\n",
    "$S_0 · T_0 · T_1 · T_2 · ... · T_n$\n",
    "\n",
    "That is - the effect of applying the sequence of transactions $T_0$ until $T_n$ at the state at $S_0$. \n",
    "<br><sub>(remember that single updates are considered transactions as well)</sub>\n",
    "\n",
    "## Isolation of transaction\n",
    "If $S_i · T_a . T_b = S_i · T_b · T_a$ we say $T_a$ and $T_b$ are *isolated*"
   ]
  },
  {
   "cell_type": "markdown",
   "metadata": {
    "slideshow": {
     "slide_type": "slide"
    }
   },
   "source": [
    "## Logging and dirty pages\n",
    "One way to implement transactions is to:\n",
    "* Snapshot at the start of the transaction\n",
    "* then for every statement in the transaction\n",
    "    * log the statement\n",
    "    * execute the statement in a local version of the snapshot\n",
    "    * (This is done by marking the pages as \"dirty\")\n",
    "* then the transaction is done, check if it was isolated\n",
    "    * and if so, update all the dirty pages, and write the transaction to the transaction log\n",
    "    * if not, try again, or try a different scheme for isolation"
   ]
  },
  {
   "cell_type": "markdown",
   "metadata": {
    "slideshow": {
     "slide_type": "slide"
    }
   },
   "source": [
    "# Locking (exclusive rights)\n",
    "Before the transaction:\n",
    "* Lock the whole schema\n",
    "* or lock the whole table\n",
    "* or lock the columns\n",
    "* or lock the rows\n",
    "\n",
    "needed in the transaction."
   ]
  },
  {
   "cell_type": "markdown",
   "metadata": {
    "slideshow": {
     "slide_type": "fragment"
    }
   },
   "source": [
    "Two ways to lock rows in mysql:\n",
    "\n",
    "```mysql\n",
    "SELECT c1 FROM t WHERE c1 = 10 FOR UPDATE\n",
    "```\n",
    "or\n",
    "```mysql\n",
    "SELECT c1 FROM t WHERE c1 BETWEEN 10 and 20 FOR UPDATE\n",
    "```"
   ]
  },
  {
   "cell_type": "markdown",
   "metadata": {
    "slideshow": {
     "slide_type": "slide"
    }
   },
   "source": [
    "# Deadlocks\n",
    "If you try to lock an object which is already locked, you are waiting in queue for the other to unlock first\n",
    "\n",
    "| Transaction 1 | Transaction 2|\n",
    "|:-------------:|:------------:|\n",
    "|LOCK TABLES A WRITE | LOCK TABLES B WRITE |\n",
    "|LOCK TABLES B WRITE | LOCK TABLES A WRITE |\n",
    "|do stuff in A and B | do stuff in A and B |\n",
    "|UNLOCK TABLES | UNLOCK TABLES | \n"
   ]
  },
  {
   "cell_type": "markdown",
   "metadata": {
    "slideshow": {
     "slide_type": "slide"
    }
   },
   "source": [
    "# Durability (recoverbility)\n",
    "The combination of snapshots and logging allows us to recover the database in case of failure of the database.\n",
    "\n",
    "It uses the formula we saw earlier: $S_0 · T_0 · T_1 · T_2 · ... · T_n$"
   ]
  },
  {
   "cell_type": "markdown",
   "metadata": {
    "slideshow": {
     "slide_type": "slide"
    }
   },
   "source": [
    "# Consistency \n",
    "It is basically up to the application programmer to ensure consistency.\n",
    "\n",
    "The database has some tools that help in this:\n",
    "* Integrity constraints\n",
    "* Foreign keys (cascade, delete, abort, ignore)\n",
    "* Triggers (to call stored procedures as side effect to updates)\n",
    "* ...\n",
    "\n",
    "#### transaction programmer:\n",
    "Assume: all consistency rules are true before the transaction starts\n",
    "<br>\n",
    "Responsibility: Make sure all consistency rules are true after the transaction finishes"
   ]
  },
  {
   "cell_type": "markdown",
   "metadata": {
    "slideshow": {
     "slide_type": "slide"
    }
   },
   "source": [
    "# Your turn\n",
    "Considder the situation where you have to add a new order to classicmodels. \n",
    "* Which tables need to be updated?\n",
    "* Are plain transactions sufficient, or do you actually need to lock any elements?\n",
    "* What are the durability expectations to this action\n",
    "* Are there any concerns regarding isolation"
   ]
  },
  {
   "cell_type": "markdown",
   "metadata": {
    "slideshow": {
     "slide_type": "fragment"
    }
   },
   "source": [
    "# BREAK"
   ]
  },
  {
   "cell_type": "markdown",
   "metadata": {
    "slideshow": {
     "slide_type": "slide"
    }
   },
   "source": [
    "# Rest of semester\n",
    "* Relational algebra \n",
    "* Spacial databases\n",
    "* The inner working of an ORM\n",
    "* Graph databases (Neo4J)\n",
    "* Larger project "
   ]
  },
  {
   "cell_type": "markdown",
   "metadata": {
    "slideshow": {
     "slide_type": "slide"
    }
   },
   "source": [
    "# Replication\n",
    "* Scale-out\n",
    "* Data security\n",
    "* Fail-over\n",
    "* Analytics\n",
    "* Long-distance data distribution"
   ]
  },
  {
   "cell_type": "markdown",
   "metadata": {
    "slideshow": {
     "slide_type": "slide"
    }
   },
   "source": [
    "# How replication is done in MySQL\n",
    "1. Synchronize\n",
    "2. Transaction log is sendt as a stream from \"master\" to \"slave\"\n",
    "\n",
    "![](https://lh3.ggpht.com/_41A-R4AR9qM/TOU5py-aVjI/AAAAAAAAAm0/YdthQoPQxRg/s800/postgres01.jpg)\n"
   ]
  },
  {
   "cell_type": "markdown",
   "metadata": {
    "slideshow": {
     "slide_type": "fragment"
    }
   },
   "source": [
    "### Notice Master and slave..."
   ]
  },
  {
   "cell_type": "markdown",
   "metadata": {
    "slideshow": {
     "slide_type": "slide"
    }
   },
   "source": [
    "# Replication in Mongo\n",
    "### A recovery scenario\n",
    "\n",
    "| all well | fail | recovery |\n",
    "|:----:|:----:|:-----:|\n",
    "|![](images/mongo_rep1.png)|![](images/mongo_rep2.png)|![](images/mongo_rep3.png)|\n"
   ]
  },
  {
   "cell_type": "markdown",
   "metadata": {
    "slideshow": {
     "slide_type": "slide"
    }
   },
   "source": [
    "# Consistency, Availability and Partition tolerance\n",
    "* Consistency: Every read receives the most recent write or an error\n",
    "* Availability: Every request receives a (non-error) response – without the guarantee that it contains the most recent write\n",
    "* Partition tolerance: The system continues to operate despite an arbitrary number of messages being dropped (or delayed) by the network between nodes\n",
    "\n",
    "Notice: CAP is only relevant if you distribute your database"
   ]
  },
  {
   "cell_type": "markdown",
   "metadata": {
    "slideshow": {
     "slide_type": "slide"
    }
   },
   "source": [
    "# CAP Theorem: you can only guarantee two of \n",
    "* Consistency, \n",
    "* Availability and \n",
    "* Partition tolerance"
   ]
  },
  {
   "cell_type": "markdown",
   "metadata": {
    "slideshow": {
     "slide_type": "slide"
    }
   },
   "source": [
    "# Assignment"
   ]
  }
 ],
 "metadata": {
  "celltoolbar": "Slideshow",
  "kernelspec": {
   "display_name": "Python 3",
   "language": "python",
   "name": "python3"
  },
  "language_info": {
   "codemirror_mode": {
    "name": "ipython",
    "version": 3
   },
   "file_extension": ".py",
   "mimetype": "text/x-python",
   "name": "python",
   "nbconvert_exporter": "python",
   "pygments_lexer": "ipython3",
   "version": "3.7.2"
  }
 },
 "nbformat": 4,
 "nbformat_minor": 2
}
